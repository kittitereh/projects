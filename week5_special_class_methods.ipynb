{
  "nbformat": 4,
  "nbformat_minor": 0,
  "metadata": {
    "colab": {
      "provenance": []
    },
    "kernelspec": {
      "name": "python3",
      "display_name": "Python 3"
    },
    "language_info": {
      "name": "python"
    }
  },
  "cells": [
    {
      "cell_type": "markdown",
      "source": [
        "### Task1\n",
        "Напишите в классе Vector из примера следующие методы:\n",
        "\n",
        "●     __neg__ — получение обратного вектора (–v);\n",
        "\n",
        "●     __sub__ — вычитание векторов (v1 — v2);\n",
        "\n",
        "●     __truediv__ — деление на число (v / a), не забудьте проверить, что второй операнд а — это число, может быть дробным;\n",
        "\n",
        "●     __abs__ — вычисление длины с помощью функции abs(v).\n",
        "\n",
        "Пример работы программы:\n",
        "\n",
        "v = Vector(1, 2)\n",
        "-v                           ⇒ Vector(-1, -2)\n",
        "\n",
        "v - Vector(0, 1)             ⇒ Vector(1, 1)\n",
        "\n",
        "v / 2                        ⇒ Vector(0.5, 1.0)\n",
        "\n",
        "abs(v)                       ⇒ 2.23606797749979\n",
        "\n",
        "v - 'abc'                    ⇒ TypeError: unsupported operand type(s)\n",
        "                                    for -: 'Vector' and 'str'\n",
        "\n",
        "v / 'abc'                    ⇒ TypeError: unsupported operand type(s)\n",
        "                                    for -: 'Vector' and 'str'\n",
        "\n",
        "v / v                        ⇒ TypeError: unsupported operand type(s)\n",
        "                                    for -: 'Vector' and 'Vector'"
      ],
      "metadata": {
        "id": "9SOzdQDnoZHe"
      }
    },
    {
      "cell_type": "code",
      "source": [
        "class Vector:\n",
        "  def __init__(self, x, y):\n",
        "    self.x = x\n",
        "    self.y = y\n",
        "\n",
        "  def __repr__(self):\n",
        "    return f'Vector({self.x}, {self.y})'\n",
        "\n",
        "  def __eq__(self, other):\n",
        "    if isinstance(other, Vector):\n",
        "        return self.x == other.x and self.y == other.y\n",
        "    else:\n",
        "        return False\n",
        "\n",
        "  def __add__(self, other):\n",
        "      if isinstance(other, Vector):\n",
        "          return Vector(self.x + other.x, self.y + other.y)\n",
        "      else:\n",
        "          return NotImplemented\n",
        "\n",
        "  def __mul__(self, other):\n",
        "      if isinstance(other, (int, float)):\n",
        "          return Vector(other * self.x, other * self.y)\n",
        "      elif isinstance(other, Vector):\n",
        "          return self.x * other.x + self.y * other.y\n",
        "      else:\n",
        "          return NotImplemented\n",
        "\n",
        "  def __rmul__(self, other):\n",
        "      return self * other\n",
        "\n",
        "  def __neg__(self):\n",
        "    return Vector(self.x - self.x*2, self.y - self.y*2)\n",
        "\n",
        "  def __sub__(self, other):\n",
        "    if isinstance(other, Vector):\n",
        "          return Vector(self.x - other.x, self.y - other.y)\n",
        "    else:\n",
        "        return NotImplemented\n",
        "\n",
        "  def __truediv__(self, other):\n",
        "    if isinstance(other, (int, float)):\n",
        "        return Vector(self.x / other, self.y / other)\n",
        "    else:\n",
        "        return NotImplemented\n",
        "\n",
        "  def __abs__(self):\n",
        "    if isinstance(self, Vector):\n",
        "        return (self.x**2 + self.y**2)**0.5\n",
        "    else:\n",
        "        return NotImplemented"
      ],
      "metadata": {
        "id": "Jq2eRqX-oYwG"
      },
      "execution_count": null,
      "outputs": []
    },
    {
      "cell_type": "markdown",
      "source": [
        "### Task 2\n",
        "Последовательность Люка — это обобщение последовательности Фибоначчи, определяемая первыми двумя членами и следующим отношением:\n",
        "\n",
        "(n) = P*U(n - 1) – Q*U(n - 2),\n",
        "где P и Q — некоторые постоянные числа.\n",
        "\n",
        "Ваша задача — написать итератор, который строит по первым двум числам и коэффициентам P и Q первые n чисел последовательности Люка.\n",
        "\n",
        "Пример работы программы:\n",
        "\n",
        "list(Lucas(0, 1, 1, -1, 10)) ⇒ [0, 1, 1, 2, 3, 5, 8, 13, 21, 34]\n",
        "\n",
        "list(Lucas(0, 1, 1, 1, 10))  ⇒ [0, 1, 1, 0, -1, -1, 0, 1, 1, 0]\n",
        "\n",
        "list(Lucas(2, 1, 1, -1, 10)) ⇒ [2, 1, 3, 4, 7, 11, 18, 29, 47, 76]"
      ],
      "metadata": {
        "id": "OuS7zmTI4ZXQ"
      }
    },
    {
      "cell_type": "code",
      "source": [
        "class Lucas:\n",
        "    def __init__(self, u0, u1, p, q, n):\n",
        "      self.u0 = u0\n",
        "      self.u1 = u1\n",
        "      self.p = p\n",
        "      self.q = q\n",
        "      self.p = p\n",
        "      self.n = n\n",
        "      self.counter = 0\n",
        "    def __iter__(self):\n",
        "      return self\n",
        "\n",
        "    def __next__(self):\n",
        "      if self.counter == 0:\n",
        "        self.counter += 1\n",
        "        return self.u0\n",
        "\n",
        "      if self.counter == 1:\n",
        "        self.counter += 1\n",
        "        return self.u1\n",
        "\n",
        "      while self.counter < self.n:\n",
        "        self.counter += 1\n",
        "        self.u11 = (self.u1 * self.p) - (self.u0 * self.q)\n",
        "        self.u0 = self.u1\n",
        "        self.u1 = self.u11\n",
        "        return self.u11\n",
        "      raise StopIteration\n",
        "\n"
      ],
      "metadata": {
        "id": "J7pIYmBA4emS"
      },
      "execution_count": null,
      "outputs": []
    },
    {
      "cell_type": "code",
      "source": [
        "list(Lucas(0, 1, 1, -1, 10))"
      ],
      "metadata": {
        "colab": {
          "base_uri": "https://localhost:8080/"
        },
        "id": "9GpotmnqffmF",
        "outputId": "4a97b2e0-bc28-4e7d-87ba-b8eecbdac8c7"
      },
      "execution_count": null,
      "outputs": [
        {
          "output_type": "execute_result",
          "data": {
            "text/plain": [
              "[0, 1, 1, 2, 3, 5, 8, 13, 21, 34]"
            ]
          },
          "metadata": {},
          "execution_count": 74
        }
      ]
    }
  ]
}