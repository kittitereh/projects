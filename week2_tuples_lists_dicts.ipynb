{
  "nbformat": 4,
  "nbformat_minor": 0,
  "metadata": {
    "colab": {
      "provenance": []
    },
    "kernelspec": {
      "name": "python3",
      "display_name": "Python 3"
    },
    "language_info": {
      "name": "python"
    }
  },
  "cells": [
    {
      "cell_type": "markdown",
      "source": [
        "### **Task 1**\n",
        "По данному натуральному числу найти минимальное натуральное число, состоящее из тех же цифр, что и данное."
      ],
      "metadata": {
        "id": "oLVwORnmIDg-"
      }
    },
    {
      "cell_type": "code",
      "source": [
        "number = input()\n",
        "x = sorted([str(n) for n in number])\n",
        "n1 = []\n",
        "\n",
        "for n in x:\n",
        "  if int(n) > 0:\n",
        "    n1.append(n)\n",
        "    break\n",
        "\n",
        "x.remove(n)\n",
        "\n",
        "x3 = n1+x\n",
        "print(int(''.join(x3)))"
      ],
      "metadata": {
        "colab": {
          "base_uri": "https://localhost:8080/"
        },
        "id": "LsVzDZPpHkh2",
        "outputId": "c8876a11-f577-408d-b53a-aa0e6c23b4f5"
      },
      "execution_count": 12,
      "outputs": [
        {
          "output_type": "stream",
          "name": "stdout",
          "text": [
            "2010\n",
            "1002\n"
          ]
        }
      ]
    },
    {
      "cell_type": "markdown",
      "source": [
        "### **Task 2**\n",
        "\n",
        "Даны N точек на прямой. У каждой известны координата X и масса M. Задача: вывести координаты точек в порядке убывания массы.\n",
        "\n",
        "Программа считывает натуральное число N — количество точек. Далее программа построчно считывает параметры для каждой n-ой точки: координату xi и массу mi. Оба параметра являются целыми числами, масса является положительным числом. Гарантируется, что строгого совпадения масс двух точек в считываемых данных не встречается.\n",
        "\n",
        "Программа должна вывести координаты xi точек, отсортированных по убыванию массы, каждая в новой строке."
      ],
      "metadata": {
        "id": "M6LwaIOGIX3z"
      }
    },
    {
      "cell_type": "code",
      "source": [
        "N = int(input())\n",
        "my_list = []\n",
        "for i in range(N):\n",
        "  (x, n) = input().split()\n",
        "  my_list.append((int(x), int(n)))\n",
        "\n",
        "my_list = sorted(\n",
        "    my_list,\n",
        "    key=lambda x: x[1],reverse = True)\n",
        "for i in my_list:\n",
        "     print(i[0])"
      ],
      "metadata": {
        "colab": {
          "base_uri": "https://localhost:8080/"
        },
        "id": "_uWgbvFYIVXq",
        "outputId": "3139e0e6-3772-4e3b-88da-3f6d7c7c1169"
      },
      "execution_count": 13,
      "outputs": [
        {
          "output_type": "stream",
          "name": "stdout",
          "text": [
            "2\n",
            "2 3\n",
            "4 5\n",
            "4\n",
            "2\n"
          ]
        }
      ]
    },
    {
      "cell_type": "markdown",
      "source": [
        "### **Task 3**\n",
        "Программа считывает URL-адрес сайта (например, https://vk.com). Определите, находится ли сайт в международном домене, и если нет, к какой стране он относится.\n",
        "\n",
        "Если домен является международным, выведите на экран слово «Международный». Если домен является национальным, выведите на экран название страны.\n",
        "\n",
        "Варианты доменов, которые могут быть на входе:\n",
        "\n",
        "●             .uk Великобритания\n",
        "\n",
        "●             .de Германия\n",
        "\n",
        "●             .il Израиль\n",
        "\n",
        "●             .in Индия\n",
        "\n",
        "●             .kz Казахстан\n",
        "\n",
        "●             .mm Мьянма\n",
        "\n",
        "●             .om Оман\n",
        "\n",
        "●             .ru Россия\n",
        "\n",
        "●             .uz Узбекистан\n",
        "\n",
        "●             .et Эфиопия\n",
        "\n",
        "●             .com Международный\n",
        "\n",
        "●             .org Международный\n",
        "\n",
        "●             .net Международный"
      ],
      "metadata": {
        "id": "qbdUPdJzItGl"
      }
    },
    {
      "cell_type": "code",
      "source": [
        "countries = {'uk': 'Великобритания', 'de':'Германия', 'il': 'Израиль', 'in': 'Индия',\n",
        "             'kz': 'Казахстан','mm': 'Мьянма', 'om': 'Оман','ru':'Россия',\n",
        "             'uz': 'Узбекистан', 'et': 'Эфиопия','com': 'Международный','org':\n",
        "             'Международный', 'net': 'Международный'}\n",
        "\n",
        "adress = input()\n",
        "a = adress.split('.')[-1]\n",
        "print(countries[a])"
      ],
      "metadata": {
        "colab": {
          "base_uri": "https://localhost:8080/"
        },
        "id": "Ol7JCoV1Ir-D",
        "outputId": "7a3e8aaa-bddf-4502-8331-6854454bcbc0"
      },
      "execution_count": 14,
      "outputs": [
        {
          "output_type": "stream",
          "name": "stdout",
          "text": [
            "vk.com\n",
            "Международный\n"
          ]
        }
      ]
    }
  ]
}