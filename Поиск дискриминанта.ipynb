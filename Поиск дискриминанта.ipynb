{
 "cells": [
  {
   "cell_type": "code",
   "execution_count": 17,
   "id": "27cda196",
   "metadata": {},
   "outputs": [],
   "source": [
    "import cmath"
   ]
  },
  {
   "cell_type": "code",
   "execution_count": 18,
   "id": "c821f91d",
   "metadata": {},
   "outputs": [
    {
     "name": "stdout",
     "output_type": "stream",
     "text": [
      "1\n",
      "-2\n",
      "1\n"
     ]
    }
   ],
   "source": [
    "a = int(input())\n",
    "b = int(input())\n",
    "c = int(input())"
   ]
  },
  {
   "cell_type": "code",
   "execution_count": 19,
   "id": "a0b72f33",
   "metadata": {},
   "outputs": [],
   "source": [
    "#Поиск дискриминанта:\n",
    "d = (b**2) - (4*a*c)\n",
    "d2 = cmath.sqrt(d)"
   ]
  },
  {
   "cell_type": "code",
   "execution_count": 21,
   "id": "46d65c0a",
   "metadata": {},
   "outputs": [
    {
     "name": "stdout",
     "output_type": "stream",
     "text": [
      "Нет решений\n"
     ]
    }
   ],
   "source": [
    "#Поиск корней\n",
    "x1 = (-b+d2)/(2*a)\n",
    "x2 = (-b-d2)/(2*a)\n",
    "if isinstance(x1, complex) == True or isinstance(x2, complex) == True:\n",
    "    print('Нет решений')\n",
    "else: \n",
    "    print('Корни: {0:.2f} и {1:.2f}'.format(x1,x2))"
   ]
  },
  {
   "cell_type": "code",
   "execution_count": 22,
   "id": "aa0a9b1e",
   "metadata": {},
   "outputs": [
    {
     "name": "stdout",
     "output_type": "stream",
     "text": [
      "Корни: 1.00+0.00j и 1.00+0.00j\n"
     ]
    }
   ],
   "source": [
    "#Посмотреть корни:\n",
    "print('Корни: {0:.2f} и {1:.2f}'.format(x1,x2))"
   ]
  }
 ],
 "metadata": {
  "kernelspec": {
   "display_name": "Python 3",
   "language": "python",
   "name": "python3"
  },
  "language_info": {
   "codemirror_mode": {
    "name": "ipython",
    "version": 3
   },
   "file_extension": ".py",
   "mimetype": "text/x-python",
   "name": "python",
   "nbconvert_exporter": "python",
   "pygments_lexer": "ipython3",
   "version": "3.8.8"
  }
 },
 "nbformat": 4,
 "nbformat_minor": 5
}
