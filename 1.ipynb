{
 "cells": [
  {
   "cell_type": "markdown",
   "metadata": {},
   "source": [
    "Краткое описание данных: \n",
    "\n",
    "* fhpolity - «уровень демократии», непрерывная шкала от 0 до 10, где 10 соответствует максимальному значению демо-\n",
    "кратии. Агрегированный показатель на основе индексов Freedom House и Polity.\n",
    "* dembinary - бинарный показатель демократии: 1 − демократия, 0 − в противном случае\n",
    "* lngdppc - логарифм ВВП на душу населения\n",
    "* wbge - эффективность государственного управления (WGI)"
   ]
  },
  {
   "cell_type": "markdown",
   "metadata": {},
   "source": [
    "## Задание 1\n",
    "Постройте модель регрессии (1), в которой откликом выступает эффективность государственного управления (wbge), предикторами – уровень демократии (fhpolity), логарифм ВВП на душу населения(lngdppc), переменная взаимодействия между уровнем демократии и логарифмом ВВП на душу населения. Проинтерпретируйте оценки коэффициентов при всех предикторах."
   ]
  },
  {
   "cell_type": "code",
   "execution_count": 8,
   "metadata": {},
   "outputs": [],
   "source": [
    "import pandas as pd\n",
    "import numpy as np"
   ]
  },
  {
   "cell_type": "code",
   "execution_count": 9,
   "metadata": {
    "scrolled": true
   },
   "outputs": [
    {
     "data": {
      "text/html": [
       "<div>\n",
       "<style scoped>\n",
       "    .dataframe tbody tr th:only-of-type {\n",
       "        vertical-align: middle;\n",
       "    }\n",
       "\n",
       "    .dataframe tbody tr th {\n",
       "        vertical-align: top;\n",
       "    }\n",
       "\n",
       "    .dataframe thead th {\n",
       "        text-align: right;\n",
       "    }\n",
       "</style>\n",
       "<table border=\"1\" class=\"dataframe\">\n",
       "  <thead>\n",
       "    <tr style=\"text-align: right;\">\n",
       "      <th></th>\n",
       "      <th>cname</th>\n",
       "      <th>dembinary</th>\n",
       "      <th>fhpolity</th>\n",
       "      <th>wbge</th>\n",
       "      <th>lngdppc</th>\n",
       "    </tr>\n",
       "  </thead>\n",
       "  <tbody>\n",
       "    <tr>\n",
       "      <th>0</th>\n",
       "      <td>Albania</td>\n",
       "      <td>1</td>\n",
       "      <td>7.583333</td>\n",
       "      <td>-0.569151</td>\n",
       "      <td>8.327136</td>\n",
       "    </tr>\n",
       "    <tr>\n",
       "      <th>1</th>\n",
       "      <td>Algeria</td>\n",
       "      <td>0</td>\n",
       "      <td>3.000000</td>\n",
       "      <td>-0.614924</td>\n",
       "      <td>8.652341</td>\n",
       "    </tr>\n",
       "    <tr>\n",
       "      <th>2</th>\n",
       "      <td>Angola</td>\n",
       "      <td>0</td>\n",
       "      <td>3.250000</td>\n",
       "      <td>-1.254168</td>\n",
       "      <td>7.588314</td>\n",
       "    </tr>\n",
       "    <tr>\n",
       "      <th>3</th>\n",
       "      <td>Azerbaijan</td>\n",
       "      <td>0</td>\n",
       "      <td>2.000000</td>\n",
       "      <td>-0.947889</td>\n",
       "      <td>8.256179</td>\n",
       "    </tr>\n",
       "    <tr>\n",
       "      <th>4</th>\n",
       "      <td>Argentina</td>\n",
       "      <td>1</td>\n",
       "      <td>7.833333</td>\n",
       "      <td>-0.260039</td>\n",
       "      <td>9.165509</td>\n",
       "    </tr>\n",
       "    <tr>\n",
       "      <th>5</th>\n",
       "      <td>Australia</td>\n",
       "      <td>1</td>\n",
       "      <td>10.000000</td>\n",
       "      <td>1.697198</td>\n",
       "      <td>10.208059</td>\n",
       "    </tr>\n",
       "    <tr>\n",
       "      <th>6</th>\n",
       "      <td>Austria</td>\n",
       "      <td>1</td>\n",
       "      <td>10.000000</td>\n",
       "      <td>1.965897</td>\n",
       "      <td>10.216334</td>\n",
       "    </tr>\n",
       "    <tr>\n",
       "      <th>7</th>\n",
       "      <td>Bahrain</td>\n",
       "      <td>0</td>\n",
       "      <td>2.416667</td>\n",
       "      <td>0.534436</td>\n",
       "      <td>9.846116</td>\n",
       "    </tr>\n",
       "    <tr>\n",
       "      <th>8</th>\n",
       "      <td>Bangladesh</td>\n",
       "      <td>1</td>\n",
       "      <td>6.500000</td>\n",
       "      <td>-0.695686</td>\n",
       "      <td>7.625331</td>\n",
       "    </tr>\n",
       "    <tr>\n",
       "      <th>9</th>\n",
       "      <td>Armenia</td>\n",
       "      <td>1</td>\n",
       "      <td>6.250000</td>\n",
       "      <td>-0.172452</td>\n",
       "      <td>8.375190</td>\n",
       "    </tr>\n",
       "  </tbody>\n",
       "</table>\n",
       "</div>"
      ],
      "text/plain": [
       "        cname  dembinary   fhpolity      wbge    lngdppc\n",
       "0     Albania          1   7.583333 -0.569151   8.327136\n",
       "1     Algeria          0   3.000000 -0.614924   8.652341\n",
       "2      Angola          0   3.250000 -1.254168   7.588314\n",
       "3  Azerbaijan          0   2.000000 -0.947889   8.256179\n",
       "4   Argentina          1   7.833333 -0.260039   9.165509\n",
       "5   Australia          1  10.000000  1.697198  10.208059\n",
       "6     Austria          1  10.000000  1.965897  10.216334\n",
       "7     Bahrain          0   2.416667  0.534436   9.846116\n",
       "8  Bangladesh          1   6.500000 -0.695686   7.625331\n",
       "9     Armenia          1   6.250000 -0.172452   8.375190"
      ]
     },
     "execution_count": 9,
     "metadata": {},
     "output_type": "execute_result"
    }
   ],
   "source": [
    "df = pd.read_stata('hw_inter_1.dta')\n",
    "df.head(10)"
   ]
  },
  {
   "cell_type": "code",
   "execution_count": 10,
   "metadata": {},
   "outputs": [
    {
     "data": {
      "text/plain": [
       "False"
      ]
     },
     "execution_count": 10,
     "metadata": {},
     "output_type": "execute_result"
    }
   ],
   "source": [
    "#Проверить пропуски в данных\n",
    "df.isna().any().any()"
   ]
  },
  {
   "cell_type": "code",
   "execution_count": 11,
   "metadata": {},
   "outputs": [],
   "source": [
    "import statsmodels.api as sm "
   ]
  },
  {
   "cell_type": "code",
   "execution_count": 64,
   "metadata": {},
   "outputs": [
    {
     "name": "stdout",
     "output_type": "stream",
     "text": [
      "                            OLS Regression Results                            \n",
      "==============================================================================\n",
      "Dep. Variable:                   wbge   R-squared:                       0.757\n",
      "Model:                            OLS   Adj. R-squared:                  0.752\n",
      "Method:                 Least Squares   F-statistic:                     157.5\n",
      "Date:                Mon, 21 Mar 2022   Prob (F-statistic):           2.00e-46\n",
      "Time:                        16:07:08   Log-Likelihood:                -110.78\n",
      "No. Observations:                 156   AIC:                             229.6\n",
      "Df Residuals:                     152   BIC:                             241.8\n",
      "Df Model:                           3                                         \n",
      "Covariance Type:            nonrobust                                         \n",
      "====================================================================================\n",
      "                       coef    std err          t      P>|t|      [0.025      0.975]\n",
      "------------------------------------------------------------------------------------\n",
      "Intercept           -2.3203      0.634     -3.658      0.000      -3.574      -1.067\n",
      "fhpolity            -0.4217      0.103     -4.079      0.000      -0.626      -0.217\n",
      "lngdppc              0.1825      0.076      2.405      0.017       0.033       0.332\n",
      "fhpolity:lngdppc     0.0609      0.012      5.229      0.000       0.038       0.084\n",
      "==============================================================================\n",
      "Omnibus:                        6.332   Durbin-Watson:                   1.648\n",
      "Prob(Omnibus):                  0.042   Jarque-Bera (JB):                6.593\n",
      "Skew:                           0.340   Prob(JB):                       0.0370\n",
      "Kurtosis:                       3.744   Cond. No.                     1.01e+03\n",
      "==============================================================================\n",
      "\n",
      "Notes:\n",
      "[1] Standard Errors assume that the covariance matrix of the errors is correctly specified.\n",
      "[2] The condition number is large, 1.01e+03. This might indicate that there are\n",
      "strong multicollinearity or other numerical problems.\n"
     ]
    }
   ],
   "source": [
    "m1 = sm.OLS.from_formula(\"wbge ~ fhpolity + lngdppc+ fhpolity:lngdppc\", data = df).fit()\n",
    "print(m1.summary())"
   ]
  },
  {
   "cell_type": "markdown",
   "metadata": {},
   "source": [
    "* Intercept - При условии того, что уровень демократии = 0, то уровень эффективности государственного управления = -2.3203.И при прочих коэфф = 0.\n",
    "* Fhpolity - При увеличении уровня демократии на 1, при условии, что логарифм ВВП = 0, уровень эффективности государственного управления изменяется на -0.4217. При прочих равных условиях.\n",
    "* Ingdppc - При увеличении логарифма ВВП на 1, при условии, что уровень демократии = 0, уровень эффективности государственного управления повышвется на 0.1825. При прочих равных условиях.\n",
    "* fhpolity:lngdppc - Одновременное увеличение уровня демократии и логарифма ВВП на 1 уровень эффективности государственного управления повышвется на 0.0609. При прочих равных условиях."
   ]
  },
  {
   "cell_type": "markdown",
   "metadata": {},
   "source": [
    "Оценка значимости коэффициентов (H0: коэфф = 0,  H1: коэфф != 0): \n",
    "fhpolity: (-0,4217 - 0)/(0,103) = -4,09 (Н0 отвергается, коэфф значимый)\n",
    "lngdppc: (0.1825 - 0)/(0,076) = 2,4 (Н0 отвергается, коэфф значимый)\n",
    "fhpolity:lngdppc: (0.0609 - 0)/(0.012) = 5,075 (Н0 отвергается, коэфф значимый)"
   ]
  },
  {
   "cell_type": "markdown",
   "metadata": {},
   "source": [
    "## Задание 2\n",
    "Преобразуйте шкалу переменной логарифма ВВП на душу населения так, чтобы она включала значение 0. Оцените модель регрессии\n",
    "(2) с преобразованной переменной, при этом сохраните такую же спецификацию, как и в предыдущей модели. Интерпретация оценок каких коэффициентов изменится по сравнению с соответствующими оценками коэффициентов в модели (1)? Приведите новую интерпретацию."
   ]
  },
  {
   "cell_type": "code",
   "execution_count": 15,
   "metadata": {},
   "outputs": [
    {
     "data": {
      "text/plain": [
       "0"
      ]
     },
     "execution_count": 15,
     "metadata": {},
     "output_type": "execute_result"
    }
   ],
   "source": [
    "np.sum(df.lngdppc == 0) "
   ]
  },
  {
   "cell_type": "markdown",
   "metadata": {},
   "source": [
    "логарифм ВВП не принимает значние 0, поэтому нужна дополнительныя центрация(упрощает интерпретацию модели)"
   ]
  },
  {
   "cell_type": "code",
   "execution_count": 13,
   "metadata": {},
   "outputs": [],
   "source": [
    "new_lngdppc = df['lngdppc'] - np.mean(df['lngdppc']) #центрирование\n",
    "df['new_lngdppc'] = new_lngdppc"
   ]
  },
  {
   "cell_type": "code",
   "execution_count": 65,
   "metadata": {},
   "outputs": [
    {
     "name": "stdout",
     "output_type": "stream",
     "text": [
      "                            OLS Regression Results                            \n",
      "==============================================================================\n",
      "Dep. Variable:                   wbge   R-squared:                       0.757\n",
      "Model:                            OLS   Adj. R-squared:                  0.752\n",
      "Method:                 Least Squares   F-statistic:                     157.5\n",
      "Date:                Mon, 21 Mar 2022   Prob (F-statistic):           2.00e-46\n",
      "Time:                        16:07:22   Log-Likelihood:                -110.78\n",
      "No. Observations:                 156   AIC:                             229.6\n",
      "Df Residuals:                     152   BIC:                             241.8\n",
      "Df Model:                           3                                         \n",
      "Covariance Type:            nonrobust                                         \n",
      "========================================================================================\n",
      "                           coef    std err          t      P>|t|      [0.025      0.975]\n",
      "----------------------------------------------------------------------------------------\n",
      "Intercept               -0.7785      0.096     -8.138      0.000      -0.968      -0.590\n",
      "fhpolity                 0.0927      0.015      6.302      0.000       0.064       0.122\n",
      "new_lngdppc              0.1825      0.076      2.405      0.017       0.033       0.332\n",
      "fhpolity:new_lngdppc     0.0609      0.012      5.229      0.000       0.038       0.084\n",
      "==============================================================================\n",
      "Omnibus:                        6.332   Durbin-Watson:                   1.648\n",
      "Prob(Omnibus):                  0.042   Jarque-Bera (JB):                6.593\n",
      "Skew:                           0.340   Prob(JB):                       0.0370\n",
      "Kurtosis:                       3.744   Cond. No.                         22.3\n",
      "==============================================================================\n",
      "\n",
      "Notes:\n",
      "[1] Standard Errors assume that the covariance matrix of the errors is correctly specified.\n"
     ]
    }
   ],
   "source": [
    "#новая модель регрессии\n",
    "m2 = sm.OLS.from_formula(\"wbge ~ fhpolity + new_lngdppc+ fhpolity:new_lngdppc\", data = df).fit()\n",
    "print(m2.summary())"
   ]
  },
  {
   "cell_type": "markdown",
   "metadata": {},
   "source": [
    "Изменится интерпретация всех оценок:\n",
    "* Intercept - При условии того, что уровень демократии =0, а ВВП равен среднему значению по выборке, то уровень эффективности государственного управления = -1.2578. При прочих коэфф = 0.\n",
    "* Fhpolity - При увеличении уровня демократии на 1, при условии, ВВП равен среднему значению по выборке, уровень эффективности государственного управления изменяется на -0.4217. При прочих равных условиях.\n",
    "* Ingdppc - При увеличении ВВП среднего значения ВВП по выборке, при условии, что уровень демократии = 0, уровень эффективности государственного управления повышвется на 0.1825. При прочих равных условиях.\n",
    "* fhpolity:lngdppc - Одновременное увеличение уровня демократии и среднего значения ВВП на 1 уровень эффективности государственного управления повышвется на 0.0609. При прочих равных условиях."
   ]
  },
  {
   "cell_type": "markdown",
   "metadata": {},
   "source": [
    "## Задание 3\n",
    "Рассчитайте предельные эффекты изменения логарифма ВВП на душу населения на эффективность государственного управления при\n",
    "разных значениях уровня демократии (fhpolity). \n",
    "* Проинтерпретируйте результаты, в частности, укажите, как изменяется предельный эффект с ростом уровня демократии на единицу шкалы измерения.\n",
    "* Постройте график, демонстрирующий изменение предельного эффекта в зависимости от уровня демократии (по оси абсцисс − уровень демократии). Проинтерпретируйте данный график."
   ]
  },
  {
   "cell_type": "markdown",
   "metadata": {},
   "source": [
    "* z - уровни демократии \n",
    "* b1 - коэфф при логарифме\n",
    "* b3 - коэфф при переменной взаимодействия\n",
    "\n",
    "Предельные эффекты = b1 + b3*z"
   ]
  },
  {
   "cell_type": "code",
   "execution_count": 66,
   "metadata": {},
   "outputs": [
    {
     "name": "stdout",
     "output_type": "stream",
     "text": [
      "Intercept              -0.778537\n",
      "fhpolity                0.092703\n",
      "new_lngdppc             0.182468\n",
      "fhpolity:new_lngdppc    0.060883\n",
      "dtype: float64\n"
     ]
    }
   ],
   "source": [
    "print(m2.params)"
   ]
  },
  {
   "cell_type": "code",
   "execution_count": 67,
   "metadata": {},
   "outputs": [
    {
     "name": "stdout",
     "output_type": "stream",
     "text": [
      "0.09270298156357193\n",
      "0.15358620473693008\n",
      "0.21446942791028825\n",
      "0.2753526510836464\n",
      "0.3362358742570046\n",
      "0.3971190974303627\n",
      "0.4580023206037209\n",
      "0.5188855437770791\n",
      "0.5797687669504372\n",
      "0.6406519901237954\n"
     ]
    }
   ],
   "source": [
    "for x in range(0, 10):\n",
    "    print(m2.params[1]+m2.params[3]*x)"
   ]
  },
  {
   "cell_type": "markdown",
   "metadata": {},
   "source": [
    "С увеличением уровня демократии на единицу увеличивается предельный эффект роста логарифма ВВП (высокий уровень демократии увеличивает влияние изменения объема ВВП) "
   ]
  },
  {
   "cell_type": "code",
   "execution_count": 81,
   "metadata": {},
   "outputs": [
    {
     "name": "stdout",
     "output_type": "stream",
     "text": [
      "Intercept              -0.778537\n",
      "fhpolity                0.092703\n",
      "new_lngdppc             0.182468\n",
      "fhpolity:new_lngdppc    0.060883\n",
      "dtype: float64\n"
     ]
    }
   ],
   "source": [
    "print(m2.params)"
   ]
  },
  {
   "cell_type": "code",
   "execution_count": 78,
   "metadata": {},
   "outputs": [],
   "source": [
    "import matplotlib.pyplot as mpl\n",
    "%matplotlib inline\n",
    "from scipy.stats import norm"
   ]
  },
  {
   "cell_type": "code",
   "execution_count": 86,
   "metadata": {},
   "outputs": [
    {
     "data": {
      "image/png": "[encoded data removed]",
      "text/plain": [
       "<Figure size 432x288 with 1 Axes>"
      ]
     },
     "metadata": {
      "needs_background": "light"
     },
     "output_type": "display_data"
    }
   ],
   "source": [
    "cov_m2 = np.asmatrix(m2.cov_params())\n",
    "fhpolity_values = np.linspace(df.fhpolity.min(), df.fhpolity.max())\n",
    "marg_effect_m2 = m2.params[1] + m2.params[3]*fhpolity_values\n",
    "se2 = (cov_m2[1,1] + fhpolity_values**2*(cov_m2[3,3]) + 2*fhpolity_values*cov_m2[1,3])**(.5)\n",
    "fig, axes = mpl.subplots()\n",
    "mpl.plot(fhpolity_values, marg_effect_m2, 'b')\n",
    "mpl.plot(fhpolity_values, marg_effect_m2 - norm.ppf(0.975)*se2, 'b--')\n",
    "mpl.plot(fhpolity_values, marg_effect_m2 + norm.ppf(0.975)*se2, 'b--')\n",
    "axes.set_xlabel('Уровень демократии')\n",
    "axes.set_ylabel('Предельный эффект ВВП')\n",
    "mpl.axhline(y=0, color ='r', linestyle = '--')\n",
    "mpl.title('Зависимость предельного эффекта логарифма ВВП на душу населения на эффективность госуправления от уровня демократии')\n",
    "mpl.show()"
   ]
  },
  {
   "cell_type": "markdown",
   "metadata": {},
   "source": [
    "Все предельные эффекты не накрывают 0 и выше 0, поэтому предельный эффект ВВП для стран с любым уровнем демократии имееет значимость. Эффект ВВП на эффективность гос. управления увеличивается с увеличением уровня демократии.  "
   ]
  },
  {
   "cell_type": "markdown",
   "metadata": {},
   "source": [
    "## Задание 4\n",
    "Оцените модель регрессии (3), в которой откликом выступает эффективность государственного управления (wbge), предикторами – индикатор политического режима, представленный в бинарной шкале(dembinary), логарифм ВВП на душу населения (lngdppc), переменная взаимодействия между политическим режимом (dembinary) и логарифмом ВВП на душу населения. Рассчитайте и проинтерпретируйте предсказанные значения эффективности государственного управления при максимальном значении логарифма ВВП на душу населения в демократических и недемократических политических режимах."
   ]
  },
  {
   "cell_type": "code",
   "execution_count": 41,
   "metadata": {},
   "outputs": [
    {
     "name": "stdout",
     "output_type": "stream",
     "text": [
      "                            OLS Regression Results                            \n",
      "==============================================================================\n",
      "Dep. Variable:                   wbge   R-squared:                       0.698\n",
      "Model:                            OLS   Adj. R-squared:                  0.692\n",
      "Method:                 Least Squares   F-statistic:                     116.9\n",
      "Date:                Mon, 21 Mar 2022   Prob (F-statistic):           2.73e-39\n",
      "Time:                        15:49:45   Log-Likelihood:                -127.68\n",
      "No. Observations:                 156   AIC:                             263.4\n",
      "Df Residuals:                     152   BIC:                             275.6\n",
      "Df Model:                           3                                         \n",
      "Covariance Type:            nonrobust                                         \n",
      "=====================================================================================\n",
      "                        coef    std err          t      P>|t|      [0.025      0.975]\n",
      "-------------------------------------------------------------------------------------\n",
      "Intercept            -3.6181      0.476     -7.600      0.000      -4.559      -2.677\n",
      "dembinary            -3.1618      0.678     -4.666      0.000      -4.501      -1.823\n",
      "lngdppc               0.3783      0.059      6.436      0.000       0.262       0.494\n",
      "dembinary:lngdppc     0.4234      0.080      5.288      0.000       0.265       0.582\n",
      "==============================================================================\n",
      "Omnibus:                        1.608   Durbin-Watson:                   1.607\n",
      "Prob(Omnibus):                  0.447   Jarque-Bera (JB):                1.199\n",
      "Skew:                           0.113   Prob(JB):                        0.549\n",
      "Kurtosis:                       3.365   Cond. No.                         179.\n",
      "==============================================================================\n",
      "\n",
      "Notes:\n",
      "[1] Standard Errors assume that the covariance matrix of the errors is correctly specified.\n"
     ]
    }
   ],
   "source": [
    "m3 = sm.OLS.from_formula(\"wbge ~ dembinary + lngdppc+ dembinary:lngdppc\", data = df).fit()\n",
    "print(m3.summary())"
   ]
  },
  {
   "cell_type": "code",
   "execution_count": 38,
   "metadata": {},
   "outputs": [],
   "source": [
    "df1 = df[df.dembinary == 1] # демократия\n",
    "df2 = df[df.dembinary == 0] # не демократия"
   ]
  },
  {
   "cell_type": "code",
   "execution_count": 42,
   "metadata": {},
   "outputs": [
    {
     "name": "stdout",
     "output_type": "stream",
     "text": [
      "Intercept           -3.618075\n",
      "dembinary           -3.161840\n",
      "lngdppc              0.378259\n",
      "dembinary:lngdppc    0.423443\n",
      "dtype: float64\n"
     ]
    }
   ],
   "source": [
    "print(m3.params)"
   ]
  },
  {
   "cell_type": "markdown",
   "metadata": {},
   "source": [
    "Формула расчета предсказанных значений эффективности государственного управления:\n",
    "\n",
    "y1(dembinary=0) = b0+lngdppc*макс.ВВП\n",
    "\n",
    "y2(dembinary=1) = (b0+dembinary)+(lngdppc+dembinary:lngdppc)*макс.ВВП"
   ]
  },
  {
   "cell_type": "code",
   "execution_count": 44,
   "metadata": {},
   "outputs": [
    {
     "data": {
      "text/plain": [
       "0.3223362075531915"
      ]
     },
     "execution_count": 44,
     "metadata": {},
     "output_type": "execute_result"
    }
   ],
   "source": [
    "y1 = m3.params[0] + (m3.params[2]*df2.lngdppc.max())\n",
    "y1"
   ]
  },
  {
   "cell_type": "code",
   "execution_count": 43,
   "metadata": {},
   "outputs": [
    {
     "data": {
      "text/plain": [
       "1.5918603035390495"
      ]
     },
     "execution_count": 43,
     "metadata": {},
     "output_type": "execute_result"
    }
   ],
   "source": [
    "y1 = (m3.params[0] + m3.params[1]) + (m3.params[2] + m3.params[3])*df1.lngdppc.max()\n",
    "y1"
   ]
  },
  {
   "cell_type": "markdown",
   "metadata": {},
   "source": [
    "WGI измеряется по шкале от –2,5 баллов (худшее значение) до 2,5 баллов (лучшее значение)\n",
    "* Для недемеократий с максимальным значением ВВП на душу населения уровень эффективности государственного правления чуть выше 0, что является средним значением среди стран мира. При всех прочих равных условиях. \n",
    "* Для демеократий с максимальным значением ВВП на душу населения уровень эффективности государственного правления = 1.6, что является одним из самых высоких значениий среди стран мира. При всех прочих равных условиях. \n",
    "\n",
    "Получается, что зависимость эффективности государственного управления от логарифма ВВП на душу населения более ярко выражена (имеет более резкий подъем/slope) в демократиях, чем в недемократиях, при прочих равных условиях."
   ]
  },
  {
   "cell_type": "markdown",
   "metadata": {},
   "source": [
    "## Задание 5\n",
    "Чему равны оценки констант и коэффициента при предикторе «логарифм ВВП на душу населения» в моделях, оцененных на отдельных\n",
    "выборках (такие выборки сформированы на основании значения показателя dembinary)? Зависимой переменной остается эффективность государственного управления. Покажите, как можно получить эти оценки коэффициентов из оценок модели (3)."
   ]
  },
  {
   "cell_type": "code",
   "execution_count": 63,
   "metadata": {},
   "outputs": [
    {
     "name": "stdout",
     "output_type": "stream",
     "text": [
      "Intercept   -3.618075\n",
      "lngdppc      0.378259\n",
      "dtype: float64\n"
     ]
    }
   ],
   "source": [
    "#dembinary = 0\n",
    "m4 = sm.OLS.from_formula(\"wbge ~ lngdppc\", data = df2).fit()\n",
    "print(m4.params)"
   ]
  },
  {
   "cell_type": "code",
   "execution_count": 62,
   "metadata": {},
   "outputs": [
    {
     "name": "stdout",
     "output_type": "stream",
     "text": [
      "Intercept   -6.779914\n",
      "lngdppc      0.801702\n",
      "dtype: float64\n"
     ]
    }
   ],
   "source": [
    "#dembinary = 1\n",
    "m5 = sm.OLS.from_formula(\"wbge ~ lngdppc+ lngdppc\", data = df1).fit()\n",
    "print(m5.params)"
   ]
  },
  {
   "cell_type": "code",
   "execution_count": 58,
   "metadata": {},
   "outputs": [
    {
     "name": "stdout",
     "output_type": "stream",
     "text": [
      "-3.6180748614844074 0.37825933066128037\n"
     ]
    }
   ],
   "source": [
    "#dembinary = 0\n",
    "intercept = m3.params[0] \n",
    "slope = m3.params[2]\n",
    "print(intercept, slope)"
   ]
  },
  {
   "cell_type": "code",
   "execution_count": 59,
   "metadata": {},
   "outputs": [
    {
     "name": "stdout",
     "output_type": "stream",
     "text": [
      "-6.779914472664438 0.801702221596243\n"
     ]
    }
   ],
   "source": [
    "#dembinary = 1\n",
    "intercept = m3.params[0] + m3.params[1] \n",
    "slope = m3.params[2] + m3.params[3]\n",
    "print(intercept, slope)"
   ]
  }
 ],
 "metadata": {
  "kernelspec": {
   "display_name": "Python 3",
   "language": "python",
   "name": "python3"
  },
  "language_info": {
   "codemirror_mode": {
    "name": "ipython",
    "version": 3
   },
   "file_extension": ".py",
   "mimetype": "text/x-python",
   "name": "python",
   "nbconvert_exporter": "python",
   "pygments_lexer": "ipython3",
   "version": "3.8.8"
  }
 },
 "nbformat": 4,
 "nbformat_minor": 2
}
