{
 "cells": [
  {
   "cell_type": "code",
   "execution_count": 1,
   "id": "c355ea22",
   "metadata": {},
   "outputs": [],
   "source": [
    "import numpy as np\n",
    "import pandas as pd\n",
    "import os \n",
    "import statsmodels.api as sm\n",
    "from plotnine import *\n",
    "np.random.seed(12345)"
   ]
  },
  {
   "cell_type": "markdown",
   "id": "5d2b9158",
   "metadata": {},
   "source": [
    "### Problem 1"
   ]
  },
  {
   "cell_type": "code",
   "execution_count": 2,
   "id": "04eeaa76",
   "metadata": {},
   "outputs": [
    {
     "data": {
      "text/html": [
       "<div>\n",
       "<style scoped>\n",
       "    .dataframe tbody tr th:only-of-type {\n",
       "        vertical-align: middle;\n",
       "    }\n",
       "\n",
       "    .dataframe tbody tr th {\n",
       "        vertical-align: top;\n",
       "    }\n",
       "\n",
       "    .dataframe thead th {\n",
       "        text-align: right;\n",
       "    }\n",
       "</style>\n",
       "<table border=\"1\" class=\"dataframe\">\n",
       "  <thead>\n",
       "    <tr style=\"text-align: right;\">\n",
       "      <th></th>\n",
       "      <th>state</th>\n",
       "      <th>district</th>\n",
       "      <th>democA</th>\n",
       "      <th>voteA</th>\n",
       "      <th>expendA</th>\n",
       "      <th>expendB</th>\n",
       "      <th>prtystrA</th>\n",
       "      <th>lexpendA</th>\n",
       "      <th>lexpendB</th>\n",
       "      <th>shareA</th>\n",
       "    </tr>\n",
       "  </thead>\n",
       "  <tbody>\n",
       "    <tr>\n",
       "      <th>0</th>\n",
       "      <td>\"AL\"</td>\n",
       "      <td>7</td>\n",
       "      <td>1</td>\n",
       "      <td>68</td>\n",
       "      <td>328.30</td>\n",
       "      <td>8.74</td>\n",
       "      <td>41</td>\n",
       "      <td>5.793916</td>\n",
       "      <td>2.167567</td>\n",
       "      <td>97.41</td>\n",
       "    </tr>\n",
       "    <tr>\n",
       "      <th>1</th>\n",
       "      <td>\"AK\"</td>\n",
       "      <td>1</td>\n",
       "      <td>0</td>\n",
       "      <td>62</td>\n",
       "      <td>626.38</td>\n",
       "      <td>402.48</td>\n",
       "      <td>60</td>\n",
       "      <td>6.439952</td>\n",
       "      <td>5.997638</td>\n",
       "      <td>60.88</td>\n",
       "    </tr>\n",
       "    <tr>\n",
       "      <th>2</th>\n",
       "      <td>\"AZ\"</td>\n",
       "      <td>2</td>\n",
       "      <td>1</td>\n",
       "      <td>73</td>\n",
       "      <td>99.61</td>\n",
       "      <td>3.07</td>\n",
       "      <td>55</td>\n",
       "      <td>4.601233</td>\n",
       "      <td>1.120048</td>\n",
       "      <td>97.01</td>\n",
       "    </tr>\n",
       "    <tr>\n",
       "      <th>3</th>\n",
       "      <td>\"AZ\"</td>\n",
       "      <td>3</td>\n",
       "      <td>0</td>\n",
       "      <td>69</td>\n",
       "      <td>319.69</td>\n",
       "      <td>26.28</td>\n",
       "      <td>64</td>\n",
       "      <td>5.767352</td>\n",
       "      <td>3.268846</td>\n",
       "      <td>92.40</td>\n",
       "    </tr>\n",
       "    <tr>\n",
       "      <th>4</th>\n",
       "      <td>\"AR\"</td>\n",
       "      <td>3</td>\n",
       "      <td>0</td>\n",
       "      <td>75</td>\n",
       "      <td>159.22</td>\n",
       "      <td>60.05</td>\n",
       "      <td>66</td>\n",
       "      <td>5.070293</td>\n",
       "      <td>4.095244</td>\n",
       "      <td>72.61</td>\n",
       "    </tr>\n",
       "    <tr>\n",
       "      <th>...</th>\n",
       "      <td>...</td>\n",
       "      <td>...</td>\n",
       "      <td>...</td>\n",
       "      <td>...</td>\n",
       "      <td>...</td>\n",
       "      <td>...</td>\n",
       "      <td>...</td>\n",
       "      <td>...</td>\n",
       "      <td>...</td>\n",
       "      <td>...</td>\n",
       "    </tr>\n",
       "    <tr>\n",
       "      <th>168</th>\n",
       "      <td>\"WV\"</td>\n",
       "      <td>4</td>\n",
       "      <td>0</td>\n",
       "      <td>39</td>\n",
       "      <td>32.04</td>\n",
       "      <td>152.27</td>\n",
       "      <td>42</td>\n",
       "      <td>3.466954</td>\n",
       "      <td>5.025662</td>\n",
       "      <td>17.38</td>\n",
       "    </tr>\n",
       "    <tr>\n",
       "      <th>169</th>\n",
       "      <td>\"WI\"</td>\n",
       "      <td>3</td>\n",
       "      <td>1</td>\n",
       "      <td>32</td>\n",
       "      <td>22.63</td>\n",
       "      <td>359.80</td>\n",
       "      <td>53</td>\n",
       "      <td>3.119100</td>\n",
       "      <td>5.885551</td>\n",
       "      <td>5.92</td>\n",
       "    </tr>\n",
       "    <tr>\n",
       "      <th>170</th>\n",
       "      <td>\"WI\"</td>\n",
       "      <td>5</td>\n",
       "      <td>0</td>\n",
       "      <td>36</td>\n",
       "      <td>197.46</td>\n",
       "      <td>1278.53</td>\n",
       "      <td>36</td>\n",
       "      <td>5.285536</td>\n",
       "      <td>7.153463</td>\n",
       "      <td>13.38</td>\n",
       "    </tr>\n",
       "    <tr>\n",
       "      <th>171</th>\n",
       "      <td>\"WI\"</td>\n",
       "      <td>7</td>\n",
       "      <td>0</td>\n",
       "      <td>38</td>\n",
       "      <td>202.59</td>\n",
       "      <td>450.72</td>\n",
       "      <td>46</td>\n",
       "      <td>5.311189</td>\n",
       "      <td>6.110837</td>\n",
       "      <td>31.01</td>\n",
       "    </tr>\n",
       "    <tr>\n",
       "      <th>172</th>\n",
       "      <td>\"WI\"</td>\n",
       "      <td>8</td>\n",
       "      <td>1</td>\n",
       "      <td>30</td>\n",
       "      <td>14.42</td>\n",
       "      <td>227.82</td>\n",
       "      <td>47</td>\n",
       "      <td>2.668685</td>\n",
       "      <td>5.428569</td>\n",
       "      <td>5.95</td>\n",
       "    </tr>\n",
       "  </tbody>\n",
       "</table>\n",
       "<p>173 rows × 10 columns</p>\n",
       "</div>"
      ],
      "text/plain": [
       "    state  district  democA  voteA  expendA  expendB  prtystrA  lexpendA  \\\n",
       "0    \"AL\"         7       1     68   328.30     8.74        41  5.793916   \n",
       "1    \"AK\"         1       0     62   626.38   402.48        60  6.439952   \n",
       "2    \"AZ\"         2       1     73    99.61     3.07        55  4.601233   \n",
       "3    \"AZ\"         3       0     69   319.69    26.28        64  5.767352   \n",
       "4    \"AR\"         3       0     75   159.22    60.05        66  5.070293   \n",
       "..    ...       ...     ...    ...      ...      ...       ...       ...   \n",
       "168  \"WV\"         4       0     39    32.04   152.27        42  3.466954   \n",
       "169  \"WI\"         3       1     32    22.63   359.80        53  3.119100   \n",
       "170  \"WI\"         5       0     36   197.46  1278.53        36  5.285536   \n",
       "171  \"WI\"         7       0     38   202.59   450.72        46  5.311189   \n",
       "172  \"WI\"         8       1     30    14.42   227.82        47  2.668685   \n",
       "\n",
       "     lexpendB  shareA  \n",
       "0    2.167567   97.41  \n",
       "1    5.997638   60.88  \n",
       "2    1.120048   97.01  \n",
       "3    3.268846   92.40  \n",
       "4    4.095244   72.61  \n",
       "..        ...     ...  \n",
       "168  5.025662   17.38  \n",
       "169  5.885551    5.92  \n",
       "170  7.153463   13.38  \n",
       "171  6.110837   31.01  \n",
       "172  5.428569    5.95  \n",
       "\n",
       "[173 rows x 10 columns]"
      ]
     },
     "execution_count": 2,
     "metadata": {},
     "output_type": "execute_result"
    }
   ],
   "source": [
    "#load the data\n",
    "df = pd.read_excel('vote1.xls', header = None, names = ['state', 'district', 'democA', 'voteA', 'expendA', 'expendB', 'prtystrA',  \n",
    "'lexpendA', 'lexpendB', 'shareA'])    \n",
    "df"
   ]
  },
  {
   "cell_type": "code",
   "execution_count": 3,
   "id": "03003d33",
   "metadata": {},
   "outputs": [
    {
     "data": {
      "text/html": [
       "<div>\n",
       "<style scoped>\n",
       "    .dataframe tbody tr th:only-of-type {\n",
       "        vertical-align: middle;\n",
       "    }\n",
       "\n",
       "    .dataframe tbody tr th {\n",
       "        vertical-align: top;\n",
       "    }\n",
       "\n",
       "    .dataframe thead th {\n",
       "        text-align: right;\n",
       "    }\n",
       "</style>\n",
       "<table border=\"1\" class=\"dataframe\">\n",
       "  <thead>\n",
       "    <tr style=\"text-align: right;\">\n",
       "      <th></th>\n",
       "      <th>state</th>\n",
       "      <th>district</th>\n",
       "      <th>democA</th>\n",
       "      <th>voteA</th>\n",
       "      <th>expendA</th>\n",
       "      <th>expendB</th>\n",
       "      <th>prtystrA</th>\n",
       "      <th>lexpendA</th>\n",
       "      <th>lexpendB</th>\n",
       "      <th>shareA</th>\n",
       "      <th>log_expendA</th>\n",
       "      <th>log_expendB</th>\n",
       "    </tr>\n",
       "  </thead>\n",
       "  <tbody>\n",
       "    <tr>\n",
       "      <th>0</th>\n",
       "      <td>\"AL\"</td>\n",
       "      <td>7</td>\n",
       "      <td>1</td>\n",
       "      <td>68</td>\n",
       "      <td>328.30</td>\n",
       "      <td>8.74</td>\n",
       "      <td>41</td>\n",
       "      <td>5.793916</td>\n",
       "      <td>2.167567</td>\n",
       "      <td>97.41</td>\n",
       "      <td>5.793928</td>\n",
       "      <td>2.167910</td>\n",
       "    </tr>\n",
       "    <tr>\n",
       "      <th>1</th>\n",
       "      <td>\"AK\"</td>\n",
       "      <td>1</td>\n",
       "      <td>0</td>\n",
       "      <td>62</td>\n",
       "      <td>626.38</td>\n",
       "      <td>402.48</td>\n",
       "      <td>60</td>\n",
       "      <td>6.439952</td>\n",
       "      <td>5.997638</td>\n",
       "      <td>60.88</td>\n",
       "      <td>6.439957</td>\n",
       "      <td>5.997645</td>\n",
       "    </tr>\n",
       "    <tr>\n",
       "      <th>2</th>\n",
       "      <td>\"AZ\"</td>\n",
       "      <td>2</td>\n",
       "      <td>1</td>\n",
       "      <td>73</td>\n",
       "      <td>99.61</td>\n",
       "      <td>3.07</td>\n",
       "      <td>55</td>\n",
       "      <td>4.601233</td>\n",
       "      <td>1.120048</td>\n",
       "      <td>97.01</td>\n",
       "      <td>4.601263</td>\n",
       "      <td>1.121678</td>\n",
       "    </tr>\n",
       "    <tr>\n",
       "      <th>3</th>\n",
       "      <td>\"AZ\"</td>\n",
       "      <td>3</td>\n",
       "      <td>0</td>\n",
       "      <td>69</td>\n",
       "      <td>319.69</td>\n",
       "      <td>26.28</td>\n",
       "      <td>64</td>\n",
       "      <td>5.767352</td>\n",
       "      <td>3.268846</td>\n",
       "      <td>92.40</td>\n",
       "      <td>5.767352</td>\n",
       "      <td>3.268808</td>\n",
       "    </tr>\n",
       "    <tr>\n",
       "      <th>4</th>\n",
       "      <td>\"AR\"</td>\n",
       "      <td>3</td>\n",
       "      <td>0</td>\n",
       "      <td>75</td>\n",
       "      <td>159.22</td>\n",
       "      <td>60.05</td>\n",
       "      <td>66</td>\n",
       "      <td>5.070293</td>\n",
       "      <td>4.095244</td>\n",
       "      <td>72.61</td>\n",
       "      <td>5.070287</td>\n",
       "      <td>4.095178</td>\n",
       "    </tr>\n",
       "    <tr>\n",
       "      <th>...</th>\n",
       "      <td>...</td>\n",
       "      <td>...</td>\n",
       "      <td>...</td>\n",
       "      <td>...</td>\n",
       "      <td>...</td>\n",
       "      <td>...</td>\n",
       "      <td>...</td>\n",
       "      <td>...</td>\n",
       "      <td>...</td>\n",
       "      <td>...</td>\n",
       "      <td>...</td>\n",
       "      <td>...</td>\n",
       "    </tr>\n",
       "    <tr>\n",
       "      <th>168</th>\n",
       "      <td>\"WV\"</td>\n",
       "      <td>4</td>\n",
       "      <td>0</td>\n",
       "      <td>39</td>\n",
       "      <td>32.04</td>\n",
       "      <td>152.27</td>\n",
       "      <td>42</td>\n",
       "      <td>3.466954</td>\n",
       "      <td>5.025662</td>\n",
       "      <td>17.38</td>\n",
       "      <td>3.466985</td>\n",
       "      <td>5.025655</td>\n",
       "    </tr>\n",
       "    <tr>\n",
       "      <th>169</th>\n",
       "      <td>\"WI\"</td>\n",
       "      <td>3</td>\n",
       "      <td>1</td>\n",
       "      <td>32</td>\n",
       "      <td>22.63</td>\n",
       "      <td>359.80</td>\n",
       "      <td>53</td>\n",
       "      <td>3.119100</td>\n",
       "      <td>5.885551</td>\n",
       "      <td>5.92</td>\n",
       "      <td>3.119276</td>\n",
       "      <td>5.885548</td>\n",
       "    </tr>\n",
       "    <tr>\n",
       "      <th>170</th>\n",
       "      <td>\"WI\"</td>\n",
       "      <td>5</td>\n",
       "      <td>0</td>\n",
       "      <td>36</td>\n",
       "      <td>197.46</td>\n",
       "      <td>1278.53</td>\n",
       "      <td>36</td>\n",
       "      <td>5.285536</td>\n",
       "      <td>7.153463</td>\n",
       "      <td>13.38</td>\n",
       "      <td>5.285536</td>\n",
       "      <td>7.153466</td>\n",
       "    </tr>\n",
       "    <tr>\n",
       "      <th>171</th>\n",
       "      <td>\"WI\"</td>\n",
       "      <td>7</td>\n",
       "      <td>0</td>\n",
       "      <td>38</td>\n",
       "      <td>202.59</td>\n",
       "      <td>450.72</td>\n",
       "      <td>46</td>\n",
       "      <td>5.311189</td>\n",
       "      <td>6.110837</td>\n",
       "      <td>31.01</td>\n",
       "      <td>5.311184</td>\n",
       "      <td>6.110846</td>\n",
       "    </tr>\n",
       "    <tr>\n",
       "      <th>172</th>\n",
       "      <td>\"WI\"</td>\n",
       "      <td>8</td>\n",
       "      <td>1</td>\n",
       "      <td>30</td>\n",
       "      <td>14.42</td>\n",
       "      <td>227.82</td>\n",
       "      <td>47</td>\n",
       "      <td>2.668685</td>\n",
       "      <td>5.428569</td>\n",
       "      <td>5.95</td>\n",
       "      <td>2.668616</td>\n",
       "      <td>5.428556</td>\n",
       "    </tr>\n",
       "  </tbody>\n",
       "</table>\n",
       "<p>173 rows × 12 columns</p>\n",
       "</div>"
      ],
      "text/plain": [
       "    state  district  democA  voteA  expendA  expendB  prtystrA  lexpendA  \\\n",
       "0    \"AL\"         7       1     68   328.30     8.74        41  5.793916   \n",
       "1    \"AK\"         1       0     62   626.38   402.48        60  6.439952   \n",
       "2    \"AZ\"         2       1     73    99.61     3.07        55  4.601233   \n",
       "3    \"AZ\"         3       0     69   319.69    26.28        64  5.767352   \n",
       "4    \"AR\"         3       0     75   159.22    60.05        66  5.070293   \n",
       "..    ...       ...     ...    ...      ...      ...       ...       ...   \n",
       "168  \"WV\"         4       0     39    32.04   152.27        42  3.466954   \n",
       "169  \"WI\"         3       1     32    22.63   359.80        53  3.119100   \n",
       "170  \"WI\"         5       0     36   197.46  1278.53        36  5.285536   \n",
       "171  \"WI\"         7       0     38   202.59   450.72        46  5.311189   \n",
       "172  \"WI\"         8       1     30    14.42   227.82        47  2.668685   \n",
       "\n",
       "     lexpendB  shareA  log_expendA  log_expendB  \n",
       "0    2.167567   97.41     5.793928     2.167910  \n",
       "1    5.997638   60.88     6.439957     5.997645  \n",
       "2    1.120048   97.01     4.601263     1.121678  \n",
       "3    3.268846   92.40     5.767352     3.268808  \n",
       "4    4.095244   72.61     5.070287     4.095178  \n",
       "..        ...     ...          ...          ...  \n",
       "168  5.025662   17.38     3.466985     5.025655  \n",
       "169  5.885551    5.92     3.119276     5.885548  \n",
       "170  7.153463   13.38     5.285536     7.153466  \n",
       "171  6.110837   31.01     5.311184     6.110846  \n",
       "172  5.428569    5.95     2.668616     5.428556  \n",
       "\n",
       "[173 rows x 12 columns]"
      ]
     },
     "execution_count": 3,
     "metadata": {},
     "output_type": "execute_result"
    }
   ],
   "source": [
    "#log\n",
    "df['log_expendA'] = np.log(df['expendA'])\n",
    "df['log_expendB'] = np.log(df['expendB'])\n",
    "df"
   ]
  },
  {
   "cell_type": "code",
   "execution_count": 4,
   "id": "76b303f3",
   "metadata": {},
   "outputs": [
    {
     "data": {
      "text/html": [
       "<div>\n",
       "<style scoped>\n",
       "    .dataframe tbody tr th:only-of-type {\n",
       "        vertical-align: middle;\n",
       "    }\n",
       "\n",
       "    .dataframe tbody tr th {\n",
       "        vertical-align: top;\n",
       "    }\n",
       "\n",
       "    .dataframe thead th {\n",
       "        text-align: right;\n",
       "    }\n",
       "</style>\n",
       "<table border=\"1\" class=\"dataframe\">\n",
       "  <thead>\n",
       "    <tr style=\"text-align: right;\">\n",
       "      <th></th>\n",
       "      <th>district</th>\n",
       "      <th>democA</th>\n",
       "      <th>voteA</th>\n",
       "      <th>expendA</th>\n",
       "      <th>expendB</th>\n",
       "      <th>prtystrA</th>\n",
       "      <th>lexpendA</th>\n",
       "      <th>lexpendB</th>\n",
       "      <th>shareA</th>\n",
       "      <th>log_expendA</th>\n",
       "      <th>log_expendB</th>\n",
       "    </tr>\n",
       "  </thead>\n",
       "  <tbody>\n",
       "    <tr>\n",
       "      <th>count</th>\n",
       "      <td>173.000000</td>\n",
       "      <td>173.000000</td>\n",
       "      <td>173.000000</td>\n",
       "      <td>173.000000</td>\n",
       "      <td>173.000000</td>\n",
       "      <td>173.000000</td>\n",
       "      <td>173.000000</td>\n",
       "      <td>173.000000</td>\n",
       "      <td>173.000000</td>\n",
       "      <td>173.000000</td>\n",
       "      <td>173.000000</td>\n",
       "    </tr>\n",
       "    <tr>\n",
       "      <th>mean</th>\n",
       "      <td>8.838150</td>\n",
       "      <td>0.554913</td>\n",
       "      <td>50.502890</td>\n",
       "      <td>310.611098</td>\n",
       "      <td>305.088497</td>\n",
       "      <td>49.757225</td>\n",
       "      <td>5.025556</td>\n",
       "      <td>4.944369</td>\n",
       "      <td>51.076185</td>\n",
       "      <td>5.025450</td>\n",
       "      <td>4.944403</td>\n",
       "    </tr>\n",
       "    <tr>\n",
       "      <th>std</th>\n",
       "      <td>8.768823</td>\n",
       "      <td>0.498418</td>\n",
       "      <td>16.784761</td>\n",
       "      <td>280.985739</td>\n",
       "      <td>306.278015</td>\n",
       "      <td>9.983650</td>\n",
       "      <td>1.601602</td>\n",
       "      <td>1.571143</td>\n",
       "      <td>33.483895</td>\n",
       "      <td>1.601955</td>\n",
       "      <td>1.571067</td>\n",
       "    </tr>\n",
       "    <tr>\n",
       "      <th>min</th>\n",
       "      <td>1.000000</td>\n",
       "      <td>0.000000</td>\n",
       "      <td>16.000000</td>\n",
       "      <td>0.300000</td>\n",
       "      <td>0.930000</td>\n",
       "      <td>22.000000</td>\n",
       "      <td>-1.197328</td>\n",
       "      <td>-0.072571</td>\n",
       "      <td>0.090000</td>\n",
       "      <td>-1.203973</td>\n",
       "      <td>-0.072571</td>\n",
       "    </tr>\n",
       "    <tr>\n",
       "      <th>25%</th>\n",
       "      <td>3.000000</td>\n",
       "      <td>0.000000</td>\n",
       "      <td>36.000000</td>\n",
       "      <td>81.630000</td>\n",
       "      <td>60.050000</td>\n",
       "      <td>44.000000</td>\n",
       "      <td>4.402246</td>\n",
       "      <td>4.095244</td>\n",
       "      <td>18.870000</td>\n",
       "      <td>4.402197</td>\n",
       "      <td>4.095178</td>\n",
       "    </tr>\n",
       "    <tr>\n",
       "      <th>50%</th>\n",
       "      <td>6.000000</td>\n",
       "      <td>1.000000</td>\n",
       "      <td>50.000000</td>\n",
       "      <td>242.780000</td>\n",
       "      <td>221.530000</td>\n",
       "      <td>50.000000</td>\n",
       "      <td>5.492164</td>\n",
       "      <td>5.400558</td>\n",
       "      <td>50.850000</td>\n",
       "      <td>5.492156</td>\n",
       "      <td>5.400558</td>\n",
       "    </tr>\n",
       "    <tr>\n",
       "      <th>75%</th>\n",
       "      <td>11.000000</td>\n",
       "      <td>1.000000</td>\n",
       "      <td>65.000000</td>\n",
       "      <td>457.410000</td>\n",
       "      <td>450.720000</td>\n",
       "      <td>56.000000</td>\n",
       "      <td>6.125580</td>\n",
       "      <td>6.110837</td>\n",
       "      <td>84.260000</td>\n",
       "      <td>6.125580</td>\n",
       "      <td>6.110846</td>\n",
       "    </tr>\n",
       "    <tr>\n",
       "      <th>max</th>\n",
       "      <td>42.000000</td>\n",
       "      <td>1.000000</td>\n",
       "      <td>84.000000</td>\n",
       "      <td>1470.670000</td>\n",
       "      <td>1548.190000</td>\n",
       "      <td>71.000000</td>\n",
       "      <td>7.293476</td>\n",
       "      <td>7.344844</td>\n",
       "      <td>99.500000</td>\n",
       "      <td>7.293473</td>\n",
       "      <td>7.344842</td>\n",
       "    </tr>\n",
       "  </tbody>\n",
       "</table>\n",
       "</div>"
      ],
      "text/plain": [
       "         district      democA       voteA      expendA      expendB  \\\n",
       "count  173.000000  173.000000  173.000000   173.000000   173.000000   \n",
       "mean     8.838150    0.554913   50.502890   310.611098   305.088497   \n",
       "std      8.768823    0.498418   16.784761   280.985739   306.278015   \n",
       "min      1.000000    0.000000   16.000000     0.300000     0.930000   \n",
       "25%      3.000000    0.000000   36.000000    81.630000    60.050000   \n",
       "50%      6.000000    1.000000   50.000000   242.780000   221.530000   \n",
       "75%     11.000000    1.000000   65.000000   457.410000   450.720000   \n",
       "max     42.000000    1.000000   84.000000  1470.670000  1548.190000   \n",
       "\n",
       "         prtystrA    lexpendA    lexpendB      shareA  log_expendA  \\\n",
       "count  173.000000  173.000000  173.000000  173.000000   173.000000   \n",
       "mean    49.757225    5.025556    4.944369   51.076185     5.025450   \n",
       "std      9.983650    1.601602    1.571143   33.483895     1.601955   \n",
       "min     22.000000   -1.197328   -0.072571    0.090000    -1.203973   \n",
       "25%     44.000000    4.402246    4.095244   18.870000     4.402197   \n",
       "50%     50.000000    5.492164    5.400558   50.850000     5.492156   \n",
       "75%     56.000000    6.125580    6.110837   84.260000     6.125580   \n",
       "max     71.000000    7.293476    7.344844   99.500000     7.293473   \n",
       "\n",
       "       log_expendB  \n",
       "count   173.000000  \n",
       "mean      4.944403  \n",
       "std       1.571067  \n",
       "min      -0.072571  \n",
       "25%       4.095178  \n",
       "50%       5.400558  \n",
       "75%       6.110846  \n",
       "max       7.344842  "
      ]
     },
     "execution_count": 4,
     "metadata": {},
     "output_type": "execute_result"
    }
   ],
   "source": [
    "df.describe()"
   ]
  },
  {
   "cell_type": "code",
   "execution_count": 5,
   "id": "f6ad1cb3",
   "metadata": {},
   "outputs": [
    {
     "data": {
      "text/html": [
       "<table class=\"simpletable\">\n",
       "<caption>OLS Regression Results</caption>\n",
       "<tr>\n",
       "  <th>Dep. Variable:</th>          <td>voteA</td>      <th>  R-squared:         </th> <td>   0.793</td>\n",
       "</tr>\n",
       "<tr>\n",
       "  <th>Model:</th>                   <td>OLS</td>       <th>  Adj. R-squared:    </th> <td>   0.789</td>\n",
       "</tr>\n",
       "<tr>\n",
       "  <th>Method:</th>             <td>Least Squares</td>  <th>  F-statistic:       </th> <td>   215.2</td>\n",
       "</tr>\n",
       "<tr>\n",
       "  <th>Date:</th>             <td>Fri, 15 Apr 2022</td> <th>  Prob (F-statistic):</th> <td>1.80e-57</td>\n",
       "</tr>\n",
       "<tr>\n",
       "  <th>Time:</th>                 <td>17:39:57</td>     <th>  Log-Likelihood:    </th> <td> -596.88</td>\n",
       "</tr>\n",
       "<tr>\n",
       "  <th>No. Observations:</th>      <td>   173</td>      <th>  AIC:               </th> <td>   1202.</td>\n",
       "</tr>\n",
       "<tr>\n",
       "  <th>Df Residuals:</th>          <td>   169</td>      <th>  BIC:               </th> <td>   1214.</td>\n",
       "</tr>\n",
       "<tr>\n",
       "  <th>Df Model:</th>              <td>     3</td>      <th>                     </th>     <td> </td>   \n",
       "</tr>\n",
       "<tr>\n",
       "  <th>Covariance Type:</th>      <td>nonrobust</td>    <th>                     </th>     <td> </td>   \n",
       "</tr>\n",
       "</table>\n",
       "<table class=\"simpletable\">\n",
       "<tr>\n",
       "       <td></td>          <th>coef</th>     <th>std err</th>      <th>t</th>      <th>P>|t|</th>  <th>[0.025</th>    <th>0.975]</th>  \n",
       "</tr>\n",
       "<tr>\n",
       "  <th>Intercept</th>   <td>   45.0879</td> <td>    3.927</td> <td>   11.482</td> <td> 0.000</td> <td>   37.336</td> <td>   52.840</td>\n",
       "</tr>\n",
       "<tr>\n",
       "  <th>log_expendA</th> <td>    6.0814</td> <td>    0.382</td> <td>   15.915</td> <td> 0.000</td> <td>    5.327</td> <td>    6.836</td>\n",
       "</tr>\n",
       "<tr>\n",
       "  <th>log_expendB</th> <td>   -6.6156</td> <td>    0.379</td> <td>  -17.461</td> <td> 0.000</td> <td>   -7.364</td> <td>   -5.868</td>\n",
       "</tr>\n",
       "<tr>\n",
       "  <th>prtystrA</th>    <td>    0.1520</td> <td>    0.062</td> <td>    2.451</td> <td> 0.015</td> <td>    0.030</td> <td>    0.274</td>\n",
       "</tr>\n",
       "</table>\n",
       "<table class=\"simpletable\">\n",
       "<tr>\n",
       "  <th>Omnibus:</th>       <td> 8.908</td> <th>  Durbin-Watson:     </th> <td>   1.604</td>\n",
       "</tr>\n",
       "<tr>\n",
       "  <th>Prob(Omnibus):</th> <td> 0.012</td> <th>  Jarque-Bera (JB):  </th> <td>   8.841</td>\n",
       "</tr>\n",
       "<tr>\n",
       "  <th>Skew:</th>          <td> 0.493</td> <th>  Prob(JB):          </th> <td>  0.0120</td>\n",
       "</tr>\n",
       "<tr>\n",
       "  <th>Kurtosis:</th>      <td> 3.505</td> <th>  Cond. No.          </th> <td>    344.</td>\n",
       "</tr>\n",
       "</table><br/><br/>Notes:<br/>[1] Standard Errors assume that the covariance matrix of the errors is correctly specified."
      ],
      "text/plain": [
       "<class 'statsmodels.iolib.summary.Summary'>\n",
       "\"\"\"\n",
       "                            OLS Regression Results                            \n",
       "==============================================================================\n",
       "Dep. Variable:                  voteA   R-squared:                       0.793\n",
       "Model:                            OLS   Adj. R-squared:                  0.789\n",
       "Method:                 Least Squares   F-statistic:                     215.2\n",
       "Date:                Fri, 15 Apr 2022   Prob (F-statistic):           1.80e-57\n",
       "Time:                        17:39:57   Log-Likelihood:                -596.88\n",
       "No. Observations:                 173   AIC:                             1202.\n",
       "Df Residuals:                     169   BIC:                             1214.\n",
       "Df Model:                           3                                         \n",
       "Covariance Type:            nonrobust                                         \n",
       "===============================================================================\n",
       "                  coef    std err          t      P>|t|      [0.025      0.975]\n",
       "-------------------------------------------------------------------------------\n",
       "Intercept      45.0879      3.927     11.482      0.000      37.336      52.840\n",
       "log_expendA     6.0814      0.382     15.915      0.000       5.327       6.836\n",
       "log_expendB    -6.6156      0.379    -17.461      0.000      -7.364      -5.868\n",
       "prtystrA        0.1520      0.062      2.451      0.015       0.030       0.274\n",
       "==============================================================================\n",
       "Omnibus:                        8.908   Durbin-Watson:                   1.604\n",
       "Prob(Omnibus):                  0.012   Jarque-Bera (JB):                8.841\n",
       "Skew:                           0.493   Prob(JB):                       0.0120\n",
       "Kurtosis:                       3.505   Cond. No.                         344.\n",
       "==============================================================================\n",
       "\n",
       "Notes:\n",
       "[1] Standard Errors assume that the covariance matrix of the errors is correctly specified.\n",
       "\"\"\""
      ]
     },
     "execution_count": 5,
     "metadata": {},
     "output_type": "execute_result"
    }
   ],
   "source": [
    "#model\n",
    "m = sm.OLS.from_formula('voteA ~ log_expendA + log_expendB + prtystrA', data = df)\n",
    "results = m.fit()\n",
    "#print the results\n",
    "results.summary()"
   ]
  },
  {
   "cell_type": "markdown",
   "id": "f19c8871",
   "metadata": {},
   "source": [
    "#### (i) What is the interpretation of b1?\n",
    "The sum of votes for candidate A increases by 6.0814 if log of campain expedentures by A rises by 1 unit."
   ]
  },
  {
   "cell_type": "markdown",
   "id": "08edd769",
   "metadata": {},
   "source": [
    "#### (ii) In terms of the parameters, state the null hypothesis that a 1% increase in A’s expenditures is offset by a 1% increase in B’s expenditures.\n",
    " H0: b1=-b2 (1% increase in A’s expenditures is offset by a 1% increase in B’s expenditures).\n",
    "\n",
    " \n",
    " H1: b1!=-b2 (1% increase in A’s expenditures is not offset by a 1% increase in B’s expenditures).\n",
    "\n",
    "$\\theta$ = b1+b2 = 0\n"
   ]
  },
  {
   "cell_type": "markdown",
   "id": "98b25916",
   "metadata": {},
   "source": [
    "#### (iii) Estimate the given model using the data in VOTE1.RAW and report the results in usual form. Do A’s expenditures affect the outcome? What about B’s expenditures? Can you use these results to test the hypothesis in part (ii)?"
   ]
  },
  {
   "cell_type": "code",
   "execution_count": 28,
   "id": "a3b8ca54",
   "metadata": {},
   "outputs": [
    {
     "data": {
      "text/html": [
       "<table class=\"simpletable\">\n",
       "<caption>OLS Regression Results</caption>\n",
       "<tr>\n",
       "  <th>Dep. Variable:</th>          <td>voteA</td>      <th>  R-squared:         </th> <td>   0.785</td>\n",
       "</tr>\n",
       "<tr>\n",
       "  <th>Model:</th>                   <td>OLS</td>       <th>  Adj. R-squared:    </th> <td>   0.783</td>\n",
       "</tr>\n",
       "<tr>\n",
       "  <th>Method:</th>             <td>Least Squares</td>  <th>  F-statistic:       </th> <td>   310.6</td>\n",
       "</tr>\n",
       "<tr>\n",
       "  <th>Date:</th>             <td>Thu, 07 Apr 2022</td> <th>  Prob (F-statistic):</th> <td>1.72e-57</td>\n",
       "</tr>\n",
       "<tr>\n",
       "  <th>Time:</th>                 <td>12:26:51</td>     <th>  Log-Likelihood:    </th> <td> -599.91</td>\n",
       "</tr>\n",
       "<tr>\n",
       "  <th>No. Observations:</th>      <td>   173</td>      <th>  AIC:               </th> <td>   1206.</td>\n",
       "</tr>\n",
       "<tr>\n",
       "  <th>Df Residuals:</th>          <td>   170</td>      <th>  BIC:               </th> <td>   1215.</td>\n",
       "</tr>\n",
       "<tr>\n",
       "  <th>Df Model:</th>              <td>     2</td>      <th>                     </th>     <td> </td>   \n",
       "</tr>\n",
       "<tr>\n",
       "  <th>Covariance Type:</th>      <td>nonrobust</td>    <th>                     </th>     <td> </td>   \n",
       "</tr>\n",
       "</table>\n",
       "<table class=\"simpletable\">\n",
       "<tr>\n",
       "       <td></td>          <th>coef</th>     <th>std err</th>      <th>t</th>      <th>P>|t|</th>  <th>[0.025</th>    <th>0.975]</th>  \n",
       "</tr>\n",
       "<tr>\n",
       "  <th>Intercept</th>   <td>   52.0509</td> <td>    2.750</td> <td>   18.926</td> <td> 0.000</td> <td>   46.622</td> <td>   57.480</td>\n",
       "</tr>\n",
       "<tr>\n",
       "  <th>log_expendA</th> <td>    6.3400</td> <td>    0.373</td> <td>   17.015</td> <td> 0.000</td> <td>    5.604</td> <td>    7.076</td>\n",
       "</tr>\n",
       "<tr>\n",
       "  <th>log_expendB</th> <td>   -6.7570</td> <td>    0.380</td> <td>  -17.784</td> <td> 0.000</td> <td>   -7.507</td> <td>   -6.007</td>\n",
       "</tr>\n",
       "</table>\n",
       "<table class=\"simpletable\">\n",
       "<tr>\n",
       "  <th>Omnibus:</th>       <td> 6.666</td> <th>  Durbin-Watson:     </th> <td>   1.663</td>\n",
       "</tr>\n",
       "<tr>\n",
       "  <th>Prob(Omnibus):</th> <td> 0.036</td> <th>  Jarque-Bera (JB):  </th> <td>   6.306</td>\n",
       "</tr>\n",
       "<tr>\n",
       "  <th>Skew:</th>          <td> 0.426</td> <th>  Prob(JB):          </th> <td>  0.0427</td>\n",
       "</tr>\n",
       "<tr>\n",
       "  <th>Kurtosis:</th>      <td> 3.387</td> <th>  Cond. No.          </th> <td>    34.0</td>\n",
       "</tr>\n",
       "</table><br/><br/>Notes:<br/>[1] Standard Errors assume that the covariance matrix of the errors is correctly specified."
      ],
      "text/plain": [
       "<class 'statsmodels.iolib.summary.Summary'>\n",
       "\"\"\"\n",
       "                            OLS Regression Results                            \n",
       "==============================================================================\n",
       "Dep. Variable:                  voteA   R-squared:                       0.785\n",
       "Model:                            OLS   Adj. R-squared:                  0.783\n",
       "Method:                 Least Squares   F-statistic:                     310.6\n",
       "Date:                Thu, 07 Apr 2022   Prob (F-statistic):           1.72e-57\n",
       "Time:                        12:26:51   Log-Likelihood:                -599.91\n",
       "No. Observations:                 173   AIC:                             1206.\n",
       "Df Residuals:                     170   BIC:                             1215.\n",
       "Df Model:                           2                                         \n",
       "Covariance Type:            nonrobust                                         \n",
       "===============================================================================\n",
       "                  coef    std err          t      P>|t|      [0.025      0.975]\n",
       "-------------------------------------------------------------------------------\n",
       "Intercept      52.0509      2.750     18.926      0.000      46.622      57.480\n",
       "log_expendA     6.3400      0.373     17.015      0.000       5.604       7.076\n",
       "log_expendB    -6.7570      0.380    -17.784      0.000      -7.507      -6.007\n",
       "==============================================================================\n",
       "Omnibus:                        6.666   Durbin-Watson:                   1.663\n",
       "Prob(Omnibus):                  0.036   Jarque-Bera (JB):                6.306\n",
       "Skew:                           0.426   Prob(JB):                       0.0427\n",
       "Kurtosis:                       3.387   Cond. No.                         34.0\n",
       "==============================================================================\n",
       "\n",
       "Notes:\n",
       "[1] Standard Errors assume that the covariance matrix of the errors is correctly specified.\n",
       "\"\"\""
      ]
     },
     "execution_count": 28,
     "metadata": {},
     "output_type": "execute_result"
    }
   ],
   "source": [
    "#model\n",
    "m1 = sm.OLS.from_formula('voteA ~ log_expendA + log_expendB', data = df)\n",
    "results1 = m1.fit()\n",
    "#print the results\n",
    "results1.summary()"
   ]
  },
  {
   "cell_type": "markdown",
   "id": "17feff8f",
   "metadata": {},
   "source": [
    "All variables are significant (p-value about 0).\n",
    "\n",
    "* Intercept - number of votes for candidate A = 45.0879 votes (with all other variables = 0). \n",
    "* log_expendA - number of votes for candidate A will increase by 6.3400\t for every log of expedenture by A increases by 1 (with all other variables = 0).\n",
    "* log_expendB - number of votes for candidate A will decrease by 6.7570 for every log of expedenture by A increases by 1 (with all other variables = 0).\n",
    "\n",
    "\n"
   ]
  },
  {
   "cell_type": "markdown",
   "id": "64049989",
   "metadata": {},
   "source": [
    "#### (iv) Estimate a model that directly gives the t statistic for testing the hypothesis in part (ii). What do you conclude? (Use a two-sided alternative.)"
   ]
  },
  {
   "cell_type": "markdown",
   "id": "bd1498de",
   "metadata": {},
   "source": [
    "The hypothesis of the part (ii) can be written as $\\theta$ = b1+b2 = 0 or b1 = $\\theta$ - b2\n",
    " "
   ]
  },
  {
   "cell_type": "code",
   "execution_count": 17,
   "id": "9dd1c800",
   "metadata": {},
   "outputs": [
    {
     "data": {
      "text/plain": [
       "15.915032281326853"
      ]
     },
     "execution_count": 17,
     "metadata": {},
     "output_type": "execute_result"
    }
   ],
   "source": [
    "t_values_log_expendA = results.params[1]/results.bse[1]\n",
    "t_values_log_expendA"
   ]
  },
  {
   "cell_type": "code",
   "execution_count": 18,
   "id": "836562e8",
   "metadata": {},
   "outputs": [
    {
     "data": {
      "text/plain": [
       "-17.460603479449773"
      ]
     },
     "execution_count": 18,
     "metadata": {},
     "output_type": "execute_result"
    }
   ],
   "source": [
    "t_values_log_expendB = results.params[2]/results.bse[2]\n",
    "t_values_log_expendB"
   ]
  },
  {
   "cell_type": "code",
   "execution_count": 20,
   "id": "edfde216",
   "metadata": {},
   "outputs": [],
   "source": [
    "from scipy.stats import t, pearsonr, f"
   ]
  },
  {
   "cell_type": "code",
   "execution_count": 47,
   "id": "877b9503",
   "metadata": {},
   "outputs": [
    {
     "name": "stdout",
     "output_type": "stream",
     "text": [
      "True\n",
      "True\n"
     ]
    }
   ],
   "source": [
    "print(not (t.cdf(t_values_log_expendA, len(df) - 4) > 0.975) or (t.cdf(t_values_log_expendA, len(df) - 4) < 0.025))\n",
    "print(not (t.cdf(t_values_log_expendA, len(df) - 4) > 0.995) or (t.cdf(t_values_log_expendA, len(df) - 4) < 0.005))"
   ]
  },
  {
   "cell_type": "markdown",
   "id": "2a6d5faa",
   "metadata": {},
   "source": [
    "The H0 is true."
   ]
  },
  {
   "cell_type": "markdown",
   "id": "d03c824d",
   "metadata": {},
   "source": [
    "#### Addition Use F-test to evaluate whether adding prtystrA to a model significantly improves the model fit."
   ]
  },
  {
   "cell_type": "code",
   "execution_count": 34,
   "id": "75962d5d",
   "metadata": {},
   "outputs": [
    {
     "name": "stdout",
     "output_type": "stream",
     "text": [
      "p-value, F-test: 1.0\n"
     ]
    }
   ],
   "source": [
    "F = ((results.rsquared - results1.rsquared)/2)/((1 - results.rsquared)/(len(df)-4))\n",
    "print('p-value, F-test:', 1 - f.cdf(F, 2, len(df)-4))"
   ]
  },
  {
   "cell_type": "code",
   "execution_count": 46,
   "id": "43eb7970",
   "metadata": {},
   "outputs": [
    {
     "name": "stdout",
     "output_type": "stream",
     "text": [
      "p-value, F-test: 1.0\n"
     ]
    }
   ],
   "source": [
    "F = ((results1.rsquared - results.rsquared)/2)/((1 - results1.rsquared)/(len(df)-3))\n",
    "print('p-value, F-test:', 1 - f.cdf(F, 2, len(df)-3))"
   ]
  },
  {
   "cell_type": "markdown",
   "id": "7e15fc84",
   "metadata": {},
   "source": [
    "### Problem 2"
   ]
  },
  {
   "cell_type": "markdown",
   "id": "c05c20fa",
   "metadata": {},
   "source": [
    "y = 28 + 2X_1 − 5X_2 + 7X_3 +u \n",
    "\n",
    "I. If X1 = 2, X2 = 5 and X3 = 7, the conditional expectation of Y given X1, X2 and X3:\n",
    "y = 28 + 2x2 − 5x5 + 7x7 + u = "
   ]
  },
  {
   "cell_type": "code",
   "execution_count": 27,
   "id": "a8c4e013",
   "metadata": {},
   "outputs": [
    {
     "data": {
      "text/plain": [
       "56"
      ]
     },
     "execution_count": 27,
     "metadata": {},
     "output_type": "execute_result"
    }
   ],
   "source": [
    "#if we assume that errors = 0\n",
    "y1 = 28 + 2*2 - 5*5 + 7*7\n",
    "y1"
   ]
  },
  {
   "cell_type": "markdown",
   "id": "3e7e3a69",
   "metadata": {},
   "source": [
    "II. Suppose now X1 = 5:"
   ]
  },
  {
   "cell_type": "code",
   "execution_count": 28,
   "id": "5ed30d2a",
   "metadata": {},
   "outputs": [
    {
     "data": {
      "text/plain": [
       "62"
      ]
     },
     "execution_count": 28,
     "metadata": {},
     "output_type": "execute_result"
    }
   ],
   "source": [
    "y2 = 28 + 2*5 - 5*5 + 7*7\n",
    "y2"
   ]
  },
  {
   "cell_type": "markdown",
   "id": "b4278dab",
   "metadata": {},
   "source": [
    "III. Do Y from the first two parts have the same variance? Explain."
   ]
  },
  {
   "cell_type": "code",
   "execution_count": 34,
   "id": "a7a7fc73",
   "metadata": {},
   "outputs": [],
   "source": [
    "X1_1 = 2\n",
    "X1_2 = 5\n",
    "X2 = 5\n",
    "X3 = 7"
   ]
  },
  {
   "cell_type": "code",
   "execution_count": 37,
   "id": "91a598f6",
   "metadata": {},
   "outputs": [
    {
     "name": "stdout",
     "output_type": "stream",
     "text": [
      "0.012666666666666666 0.002666666666666667\n"
     ]
    }
   ],
   "source": [
    "#we use estimated variances\n",
    "mu1 = (X1_1 + X2 + X3)/3 #mean of the sample 1\n",
    "mu2 = (X1_2 + X2 + X3)/3 #mean of the sample 2\n",
    "n = 1000-1 \n",
    "variance1 = ((X1_1 - mu1)**2 + (X2 - mu1)**2 + (X3 - mu1)**2)/n\n",
    "variance2 = ((X1_2 - mu2)**2 + (X2 - mu2)**2 + (X3 - mu2)**2)/n\n",
    "print(variance1,variance2)"
   ]
  },
  {
   "cell_type": "markdown",
   "id": "025275ce",
   "metadata": {},
   "source": [
    "Variance for y1 is bigger than for y2. The variances are not the same because in the y2 two values are the same (x1=x2=5), which means that the variance will be less."
   ]
  },
  {
   "cell_type": "markdown",
   "id": "bcfa89a2",
   "metadata": {},
   "source": [
    "IV. Use the loop to draw 500 samples of Y. "
   ]
  },
  {
   "cell_type": "code",
   "execution_count": 40,
   "id": "2eecd4c4",
   "metadata": {},
   "outputs": [],
   "source": [
    "X_1 = np.random.normal(2, 9, 1000)\n",
    "X_2 = np.random.poisson(16, 1000)\n",
    "X_3 = np.random.poisson(4, 1000)"
   ]
  },
  {
   "cell_type": "code",
   "execution_count": 38,
   "id": "8d0cc72d",
   "metadata": {},
   "outputs": [],
   "source": [
    "σ=4**(1/2)"
   ]
  },
  {
   "cell_type": "code",
   "execution_count": 55,
   "id": "5ada844e",
   "metadata": {},
   "outputs": [],
   "source": [
    "Y = []\n",
    "for x in range(500):\n",
    "    Y.append(28 + 2*X_1 + 5*X_2 - 7*X_3 + np.random.normal(0,2,1000)) "
   ]
  },
  {
   "cell_type": "markdown",
   "id": "2c2384a7",
   "metadata": {},
   "source": [
    "V. For each drawn sample run the OLS regression"
   ]
  },
  {
   "cell_type": "code",
   "execution_count": 56,
   "id": "3177add4",
   "metadata": {},
   "outputs": [],
   "source": [
    "for x in range(500):\n",
    "    Y = 28 + 2*X_1 -5*X_2 + 7*X_3 + np.random.normal(0,2,1000)\n",
    "    data_estimation = pd.DataFrame({'Y': Y,\n",
    "                                    'X_1': X_1,\n",
    "                                    'X_2': X_2,\n",
    "                                    'X_3': X_3})\n",
    "    model = sm.OLS.from_formula('Y ~ X_1 + X_2 + X_3', data = data_estimation).fit()"
   ]
  },
  {
   "cell_type": "markdown",
   "id": "e90aa8b9",
   "metadata": {},
   "source": [
    "VII. For each parameter, what is the mean across all samples? Are these means close to\n",
    "actual population parameters? Discuss how this result is related to the properties of OLS\n",
    "estimator."
   ]
  },
  {
   "cell_type": "code",
   "execution_count": 86,
   "id": "8535fbe4",
   "metadata": {},
   "outputs": [
    {
     "data": {
      "text/html": [
       "<table class=\"simpletable\">\n",
       "<caption>OLS Regression Results</caption>\n",
       "<tr>\n",
       "  <th>Dep. Variable:</th>            <td>Y</td>        <th>  R-squared:         </th> <td>   0.996</td> \n",
       "</tr>\n",
       "<tr>\n",
       "  <th>Model:</th>                   <td>OLS</td>       <th>  Adj. R-squared:    </th> <td>   0.996</td> \n",
       "</tr>\n",
       "<tr>\n",
       "  <th>Method:</th>             <td>Least Squares</td>  <th>  F-statistic:       </th> <td>7.683e+04</td>\n",
       "</tr>\n",
       "<tr>\n",
       "  <th>Date:</th>             <td>Sun, 17 Apr 2022</td> <th>  Prob (F-statistic):</th>  <td>  0.00</td>  \n",
       "</tr>\n",
       "<tr>\n",
       "  <th>Time:</th>                 <td>00:23:48</td>     <th>  Log-Likelihood:    </th> <td> -2087.0</td> \n",
       "</tr>\n",
       "<tr>\n",
       "  <th>No. Observations:</th>      <td>  1000</td>      <th>  AIC:               </th> <td>   4182.</td> \n",
       "</tr>\n",
       "<tr>\n",
       "  <th>Df Residuals:</th>          <td>   996</td>      <th>  BIC:               </th> <td>   4202.</td> \n",
       "</tr>\n",
       "<tr>\n",
       "  <th>Df Model:</th>              <td>     3</td>      <th>                     </th>     <td> </td>    \n",
       "</tr>\n",
       "<tr>\n",
       "  <th>Covariance Type:</th>      <td>nonrobust</td>    <th>                     </th>     <td> </td>    \n",
       "</tr>\n",
       "</table>\n",
       "<table class=\"simpletable\">\n",
       "<tr>\n",
       "      <td></td>         <th>coef</th>     <th>std err</th>      <th>t</th>      <th>P>|t|</th>  <th>[0.025</th>    <th>0.975]</th>  \n",
       "</tr>\n",
       "<tr>\n",
       "  <th>Intercept</th> <td>   28.0216</td> <td>    0.283</td> <td>   99.070</td> <td> 0.000</td> <td>   27.467</td> <td>   28.577</td>\n",
       "</tr>\n",
       "<tr>\n",
       "  <th>X_1</th>       <td>    1.9901</td> <td>    0.007</td> <td>  291.733</td> <td> 0.000</td> <td>    1.977</td> <td>    2.004</td>\n",
       "</tr>\n",
       "<tr>\n",
       "  <th>X_2</th>       <td>   -4.9841</td> <td>    0.015</td> <td> -329.220</td> <td> 0.000</td> <td>   -5.014</td> <td>   -4.954</td>\n",
       "</tr>\n",
       "<tr>\n",
       "  <th>X_3</th>       <td>    6.9684</td> <td>    0.032</td> <td>  219.718</td> <td> 0.000</td> <td>    6.906</td> <td>    7.031</td>\n",
       "</tr>\n",
       "</table>\n",
       "<table class=\"simpletable\">\n",
       "<tr>\n",
       "  <th>Omnibus:</th>       <td> 2.196</td> <th>  Durbin-Watson:     </th> <td>   2.002</td>\n",
       "</tr>\n",
       "<tr>\n",
       "  <th>Prob(Omnibus):</th> <td> 0.333</td> <th>  Jarque-Bera (JB):  </th> <td>   2.269</td>\n",
       "</tr>\n",
       "<tr>\n",
       "  <th>Skew:</th>          <td> 0.103</td> <th>  Prob(JB):          </th> <td>   0.322</td>\n",
       "</tr>\n",
       "<tr>\n",
       "  <th>Kurtosis:</th>      <td> 2.892</td> <th>  Cond. No.          </th> <td>    79.2</td>\n",
       "</tr>\n",
       "</table><br/><br/>Notes:<br/>[1] Standard Errors assume that the covariance matrix of the errors is correctly specified."
      ],
      "text/plain": [
       "<class 'statsmodels.iolib.summary.Summary'>\n",
       "\"\"\"\n",
       "                            OLS Regression Results                            \n",
       "==============================================================================\n",
       "Dep. Variable:                      Y   R-squared:                       0.996\n",
       "Model:                            OLS   Adj. R-squared:                  0.996\n",
       "Method:                 Least Squares   F-statistic:                 7.683e+04\n",
       "Date:                Sun, 17 Apr 2022   Prob (F-statistic):               0.00\n",
       "Time:                        00:23:48   Log-Likelihood:                -2087.0\n",
       "No. Observations:                1000   AIC:                             4182.\n",
       "Df Residuals:                     996   BIC:                             4202.\n",
       "Df Model:                           3                                         \n",
       "Covariance Type:            nonrobust                                         \n",
       "==============================================================================\n",
       "                 coef    std err          t      P>|t|      [0.025      0.975]\n",
       "------------------------------------------------------------------------------\n",
       "Intercept     28.0216      0.283     99.070      0.000      27.467      28.577\n",
       "X_1            1.9901      0.007    291.733      0.000       1.977       2.004\n",
       "X_2           -4.9841      0.015   -329.220      0.000      -5.014      -4.954\n",
       "X_3            6.9684      0.032    219.718      0.000       6.906       7.031\n",
       "==============================================================================\n",
       "Omnibus:                        2.196   Durbin-Watson:                   2.002\n",
       "Prob(Omnibus):                  0.333   Jarque-Bera (JB):                2.269\n",
       "Skew:                           0.103   Prob(JB):                        0.322\n",
       "Kurtosis:                       2.892   Cond. No.                         79.2\n",
       "==============================================================================\n",
       "\n",
       "Notes:\n",
       "[1] Standard Errors assume that the covariance matrix of the errors is correctly specified.\n",
       "\"\"\""
      ]
     },
     "execution_count": 86,
     "metadata": {},
     "output_type": "execute_result"
    }
   ],
   "source": [
    "model.summary()"
   ]
  },
  {
   "cell_type": "markdown",
   "id": "7f6618ab",
   "metadata": {},
   "source": [
    "Actual population mean for x_1 = 9 while x_2 and x_2 don't have means as they are poisson distributed. "
   ]
  },
  {
   "cell_type": "markdown",
   "id": "59a5055b",
   "metadata": {},
   "source": [
    "VIII. For each parameter, what is the percentage of samples where confidence interval\n",
    "“hit” the actual true population value? Is it close to 0.95?"
   ]
  },
  {
   "cell_type": "markdown",
   "id": "70251be3",
   "metadata": {},
   "source": [
    "to know this we need to see what confidens intervals do not cover 0:"
   ]
  },
  {
   "cell_type": "code",
   "execution_count": 126,
   "id": "02cc307b",
   "metadata": {},
   "outputs": [
    {
     "data": {
      "text/html": [
       "<div>\n",
       "<style scoped>\n",
       "    .dataframe tbody tr th:only-of-type {\n",
       "        vertical-align: middle;\n",
       "    }\n",
       "\n",
       "    .dataframe tbody tr th {\n",
       "        vertical-align: top;\n",
       "    }\n",
       "\n",
       "    .dataframe thead th {\n",
       "        text-align: right;\n",
       "    }\n",
       "</style>\n",
       "<table border=\"1\" class=\"dataframe\">\n",
       "  <thead>\n",
       "    <tr style=\"text-align: right;\">\n",
       "      <th></th>\n",
       "      <th>0</th>\n",
       "      <th>1</th>\n",
       "    </tr>\n",
       "  </thead>\n",
       "  <tbody>\n",
       "    <tr>\n",
       "      <th>0</th>\n",
       "      <td>7.763396</td>\n",
       "      <td>7.918921</td>\n",
       "    </tr>\n",
       "    <tr>\n",
       "      <th>1</th>\n",
       "      <td>8.644137</td>\n",
       "      <td>8.844211</td>\n",
       "    </tr>\n",
       "    <tr>\n",
       "      <th>2</th>\n",
       "      <td>10.360292</td>\n",
       "      <td>10.666172</td>\n",
       "    </tr>\n",
       "    <tr>\n",
       "      <th>3</th>\n",
       "      <td>8.130023</td>\n",
       "      <td>8.303297</td>\n",
       "    </tr>\n",
       "    <tr>\n",
       "      <th>4</th>\n",
       "      <td>13.619633</td>\n",
       "      <td>14.197313</td>\n",
       "    </tr>\n",
       "    <tr>\n",
       "      <th>...</th>\n",
       "      <td>...</td>\n",
       "      <td>...</td>\n",
       "    </tr>\n",
       "    <tr>\n",
       "      <th>995</th>\n",
       "      <td>6.530996</td>\n",
       "      <td>6.635111</td>\n",
       "    </tr>\n",
       "    <tr>\n",
       "      <th>996</th>\n",
       "      <td>9.191584</td>\n",
       "      <td>9.422666</td>\n",
       "    </tr>\n",
       "    <tr>\n",
       "      <th>997</th>\n",
       "      <td>9.247175</td>\n",
       "      <td>9.481549</td>\n",
       "    </tr>\n",
       "    <tr>\n",
       "      <th>998</th>\n",
       "      <td>8.565760</td>\n",
       "      <td>8.761604</td>\n",
       "    </tr>\n",
       "    <tr>\n",
       "      <th>999</th>\n",
       "      <td>8.112008</td>\n",
       "      <td>8.284383</td>\n",
       "    </tr>\n",
       "  </tbody>\n",
       "</table>\n",
       "<p>1000 rows × 2 columns</p>\n",
       "</div>"
      ],
      "text/plain": [
       "             0          1\n",
       "0     7.763396   7.918921\n",
       "1     8.644137   8.844211\n",
       "2    10.360292  10.666172\n",
       "3     8.130023   8.303297\n",
       "4    13.619633  14.197313\n",
       "..         ...        ...\n",
       "995   6.530996   6.635111\n",
       "996   9.191584   9.422666\n",
       "997   9.247175   9.481549\n",
       "998   8.565760   8.761604\n",
       "999   8.112008   8.284383\n",
       "\n",
       "[1000 rows x 2 columns]"
      ]
     },
     "execution_count": 126,
     "metadata": {},
     "output_type": "execute_result"
    }
   ],
   "source": [
    "df = pd.DataFrame(data=[conf_interval1[0],conf_interval2[0]]).transpose()\n",
    "df"
   ]
  },
  {
   "cell_type": "code",
   "execution_count": 127,
   "id": "3e57c702",
   "metadata": {},
   "outputs": [],
   "source": [
    "filter1 = df[0]>0  "
   ]
  },
  {
   "cell_type": "code",
   "execution_count": 128,
   "id": "82e2afbb",
   "metadata": {},
   "outputs": [],
   "source": [
    "filter2=df[1]>0"
   ]
  },
  {
   "cell_type": "code",
   "execution_count": 129,
   "id": "2f8dd260",
   "metadata": {},
   "outputs": [],
   "source": [
    "filter3 = df[0]<0 "
   ]
  },
  {
   "cell_type": "code",
   "execution_count": 130,
   "id": "70e9c72a",
   "metadata": {},
   "outputs": [],
   "source": [
    "filter4= df[1]<0"
   ]
  },
  {
   "cell_type": "code",
   "execution_count": 131,
   "id": "94e9e48a",
   "metadata": {},
   "outputs": [],
   "source": [
    "df1 = df.where(filter1 & filter2)"
   ]
  },
  {
   "cell_type": "code",
   "execution_count": 132,
   "id": "677436fa",
   "metadata": {},
   "outputs": [],
   "source": [
    "df2 = df.where(filter3 & filter4)"
   ]
  },
  {
   "cell_type": "code",
   "execution_count": 138,
   "id": "300faabd",
   "metadata": {},
   "outputs": [],
   "source": [
    "df1 = df1.dropna()"
   ]
  },
  {
   "cell_type": "code",
   "execution_count": 139,
   "id": "381d6784",
   "metadata": {},
   "outputs": [],
   "source": [
    "df2 = df2.dropna()"
   ]
  },
  {
   "cell_type": "code",
   "execution_count": 140,
   "id": "015fef6c",
   "metadata": {},
   "outputs": [
    {
     "data": {
      "text/plain": [
       "988"
      ]
     },
     "execution_count": 140,
     "metadata": {},
     "output_type": "execute_result"
    }
   ],
   "source": [
    "len(df1)"
   ]
  },
  {
   "cell_type": "code",
   "execution_count": 141,
   "id": "dfbbd088",
   "metadata": {},
   "outputs": [
    {
     "data": {
      "text/plain": [
       "12"
      ]
     },
     "execution_count": 141,
     "metadata": {},
     "output_type": "execute_result"
    }
   ],
   "source": [
    "len(df2)"
   ]
  },
  {
   "cell_type": "code",
   "execution_count": 145,
   "id": "6cb76159",
   "metadata": {},
   "outputs": [
    {
     "data": {
      "text/plain": [
       "0.0"
      ]
     },
     "execution_count": 145,
     "metadata": {},
     "output_type": "execute_result"
    }
   ],
   "source": [
    "procent = (1000-(len(df1)+len(df2)))/1000\n",
    "procent #all confidence intervals “hit” the actual true population value"
   ]
  },
  {
   "cell_type": "markdown",
   "id": "d266a657",
   "metadata": {},
   "source": [
    "### Ptoblem 3\n"
   ]
  },
  {
   "cell_type": "markdown",
   "id": "f62ff9d2",
   "metadata": {},
   "source": [
    "Проверка на гетероскедастичность"
   ]
  },
  {
   "cell_type": "code",
   "execution_count": 16,
   "id": "1cef98e1",
   "metadata": {},
   "outputs": [
    {
     "name": "stdout",
     "output_type": "stream",
     "text": [
      "                            OLS Regression Results                            \n",
      "==============================================================================\n",
      "Dep. Variable:                  voteA   R-squared:                       0.801\n",
      "Model:                            OLS   Adj. R-squared:                  0.796\n",
      "Method:                 Least Squares   F-statistic:                     169.2\n",
      "Date:                Fri, 15 Apr 2022   Prob (F-statistic):           8.27e-58\n",
      "Time:                        18:23:58   Log-Likelihood:                -593.22\n",
      "No. Observations:                 173   AIC:                             1196.\n",
      "Df Residuals:                     168   BIC:                             1212.\n",
      "Df Model:                           4                                         \n",
      "Covariance Type:            nonrobust                                         \n",
      "===============================================================================\n",
      "                  coef    std err          t      P>|t|      [0.025      0.975]\n",
      "-------------------------------------------------------------------------------\n",
      "Intercept      37.6679      4.737      7.952      0.000      28.317      47.019\n",
      "prtystrA        0.2520      0.071      3.534      0.001       0.111       0.393\n",
      "democA          3.7940      1.407      2.697      0.008       1.017       6.571\n",
      "log_expendA     5.7773      0.392     14.746      0.000       5.004       6.551\n",
      "log_expendB    -6.2379      0.398    -15.692      0.000      -7.023      -5.453\n",
      "==============================================================================\n",
      "Omnibus:                        6.309   Durbin-Watson:                   1.525\n",
      "Prob(Omnibus):                  0.043   Jarque-Bera (JB):                6.035\n",
      "Skew:                           0.448   Prob(JB):                       0.0489\n",
      "Kurtosis:                       3.182   Cond. No.                         429.\n",
      "==============================================================================\n",
      "\n",
      "Notes:\n",
      "[1] Standard Errors assume that the covariance matrix of the errors is correctly specified.\n"
     ]
    }
   ],
   "source": [
    "m3 = sm.OLS.from_formula('voteA ~ prtystrA + democA + log_expendA + log_expendB', data = df)\n",
    "results = m3.fit()\n",
    "#print the results\n",
    "print(results.summary())"
   ]
  },
  {
   "cell_type": "code",
   "execution_count": 9,
   "id": "d93f6643",
   "metadata": {},
   "outputs": [
    {
     "name": "stdout",
     "output_type": "stream",
     "text": [
      "                            OLS Regression Results                            \n",
      "==============================================================================\n",
      "Dep. Variable:               resid_sq   R-squared:                       0.072\n",
      "Model:                            OLS   Adj. R-squared:                  0.050\n",
      "Method:                 Least Squares   F-statistic:                     3.252\n",
      "Date:                Fri, 15 Apr 2022   Prob (F-statistic):             0.0134\n",
      "Time:                        17:44:03   Log-Likelihood:                -1980.7\n",
      "No. Observations:                 173   AIC:                             3971.\n",
      "Df Residuals:                     168   BIC:                             3987.\n",
      "Df Model:                           4                                         \n",
      "Covariance Type:            nonrobust                                         \n",
      "===============================================================================\n",
      "                  coef    std err          t      P>|t|      [0.025      0.975]\n",
      "-------------------------------------------------------------------------------\n",
      "Intercept    1.936e+04   1.44e+04      1.344      0.181   -9070.133    4.78e+04\n",
      "prtystrA       50.0732    216.807      0.231      0.818    -377.943     478.090\n",
      "democA       4981.1045   4277.378      1.165      0.246   -3463.232    1.34e+04\n",
      "log_expendA -3973.1337   1191.296     -3.335      0.001   -6324.973   -1621.294\n",
      "log_expendB   364.3885   1208.778      0.301      0.763   -2021.962    2750.739\n",
      "==============================================================================\n",
      "Omnibus:                      290.346   Durbin-Watson:                   1.964\n",
      "Prob(Omnibus):                  0.000   Jarque-Bera (JB):            44711.714\n",
      "Skew:                           7.891   Prob(JB):                         0.00\n",
      "Kurtosis:                      80.160   Cond. No.                         429.\n",
      "==============================================================================\n",
      "\n",
      "Notes:\n",
      "[1] Standard Errors assume that the covariance matrix of the errors is correctly specified.\n"
     ]
    }
   ],
   "source": [
    "# obtain OLS residuals\n",
    "df['resid_sq'] = results.resid**2\n",
    "m4 = sm.OLS.from_formula('resid_sq ~ prtystrA + democA + log_expendA + log_expendB', data = df)\n",
    "results = m4.fit()\n",
    "print(results.summary())"
   ]
  },
  {
   "cell_type": "markdown",
   "id": "476ac27d",
   "metadata": {},
   "source": [
    "By regressing the residuals we test the correlation of errors and independent variables. Coefficients of Intercept, prtstystrA, democA, log_expendB are statistically significant, which means that we have heteroskedasticity in our sample.\n"
   ]
  },
  {
   "cell_type": "markdown",
   "id": "4d470983",
   "metadata": {},
   "source": [
    "ii Breusch-Pagan test for heteroskedasticity"
   ]
  },
  {
   "cell_type": "code",
   "execution_count": 13,
   "id": "82c75ffb",
   "metadata": {},
   "outputs": [],
   "source": [
    "import statsmodels.stats.api as sms\n",
    "from statsmodels.compat import lzip"
   ]
  },
  {
   "cell_type": "code",
   "execution_count": 14,
   "id": "e2f952a1",
   "metadata": {},
   "outputs": [],
   "source": [
    "names = ['Lagrange multiplier statistic', 'p-value',\n",
    "        'f-value', 'f p-value']"
   ]
  },
  {
   "cell_type": "code",
   "execution_count": 12,
   "id": "c1334c2a",
   "metadata": {},
   "outputs": [],
   "source": [
    "test = sms.het_breuschpagan(results.resid, results.model.exog)"
   ]
  },
  {
   "cell_type": "code",
   "execution_count": 15,
   "id": "24feedfe",
   "metadata": {},
   "outputs": [
    {
     "data": {
      "text/plain": [
       "[('Lagrange multiplier statistic', 6.645556608948249),\n",
       " ('p-value', 0.155847084053431),\n",
       " ('f-value', 1.67782339855937),\n",
       " ('f p-value', 0.15740675734812615)]"
      ]
     },
     "execution_count": 15,
     "metadata": {},
     "output_type": "execute_result"
    }
   ],
   "source": [
    "lzip(names, test)"
   ]
  },
  {
   "cell_type": "markdown",
   "id": "0134ba91",
   "metadata": {},
   "source": [
    "H0: There is homoskedasticity.\n",
    "\n",
    "p-value = 0.155847084053431, so we fail to reject the H0. We do not have sufficient evidence to say that heteroscedasticity is present in the regression model.\n"
   ]
  }
 ],
 "metadata": {
  "kernelspec": {
   "display_name": "Python 3",
   "language": "python",
   "name": "python3"
  },
  "language_info": {
   "codemirror_mode": {
    "name": "ipython",
    "version": 3
   },
   "file_extension": ".py",
   "mimetype": "text/x-python",
   "name": "python",
   "nbconvert_exporter": "python",
   "pygments_lexer": "ipython3",
   "version": "3.8.8"
  }
 },
 "nbformat": 4,
 "nbformat_minor": 5
}
