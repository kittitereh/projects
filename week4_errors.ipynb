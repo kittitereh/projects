{
  "nbformat": 4,
  "nbformat_minor": 0,
  "metadata": {
    "colab": {
      "provenance": []
    },
    "kernelspec": {
      "name": "python3",
      "display_name": "Python 3"
    },
    "language_info": {
      "name": "python"
    }
  },
  "cells": [
    {
      "cell_type": "markdown",
      "source": [
        "### Task1\n",
        "Напишите функцию double_print, которая принимает строку и выводит ее на экран дважды.\n",
        "\n",
        "При передачи пустой строки, функция должна возбудить исключение ValueError с сообщением \"empty string is not allowed\"\n",
        "\n",
        "Пример работы программы:\n",
        "\n",
        ">>> double_print('Hello')\n",
        "Hello\n",
        "Hello\n",
        "\n",
        ">>> double_print('')\n",
        "Traceback (most recent call last):\n",
        "  ...\n",
        "ValueError: empty string is not allowed"
      ],
      "metadata": {
        "id": "9SOzdQDnoZHe"
      }
    },
    {
      "cell_type": "code",
      "source": [
        "def double_print(my_str):\n",
        "  if not my_str:\n",
        "    raise ValueError('empty string is not allowed')\n",
        "  else:\n",
        "    print(f'{my_str}\\n{my_str}')"
      ],
      "metadata": {
        "id": "Jq2eRqX-oYwG"
      },
      "execution_count": 58,
      "outputs": []
    },
    {
      "cell_type": "code",
      "source": [
        "double_print('gg')"
      ],
      "metadata": {
        "colab": {
          "base_uri": "https://localhost:8080/"
        },
        "id": "dtC9c6WY6qEJ",
        "outputId": "75e97e11-10ea-4ae4-9dec-9276845356d9"
      },
      "execution_count": 59,
      "outputs": [
        {
          "output_type": "stream",
          "name": "stdout",
          "text": [
            "gg\n",
            "gg\n"
          ]
        }
      ]
    },
    {
      "cell_type": "markdown",
      "source": [
        "### Task 2\n",
        "Напишите класс исключения ParseError, который будет являться наследником класса Exception.\n",
        "\n",
        "Снабдите созданный класс документ-строкой: \"\"\" Error while parsing file \"\"\".\n",
        "\n",
        "Конструктор класса ParseError должен принимать необязательные именованные аргументы line_no (номер строки) и text (текст, который вызвал ошибку).\n",
        "\n",
        "Опишите метод __str__, создающий сообщение об ошибке по следующей логике:\n",
        "\n",
        "●     если не переданы ни номер строки, ни текст, вызывается стандартный метод Exception\n",
        "\n",
        "●     если передан только номер строки, метод выдает \"cannot parse text on line ...\"\n",
        "\n",
        "●     если передан только текст, метод выдает \"cannot parse text: '...'\" (текст должен выглядеть так, как его выдает функция repr)\n",
        "\n",
        "   если переданы и номер строки, и текст, метод выдает: \"cannot parse text on line ...: '...'\"\n",
        "\n",
        "\n",
        "Пример работы программы:\n",
        "\n",
        ">>> raise ParseError('some standard message')\n",
        "Traceback (most recent call last):\n",
        "  ...\n",
        "__main__.ParseError: some standard message\n",
        "\n",
        ">>> raise ParseError(line_no=10)\n",
        "Traceback (most recent call last):\n",
        "  ...\n",
        "__main__.ParseError: cannot parse text on line 10\n",
        "\n",
        ">>> raise ParseError(text='abc')\n",
        "Traceback (most recent call last):\n",
        "__main__.ParseError: cannot parse text: 'abc'\n",
        "\n",
        ">>> raise ParseError(line_no=10, text='...')\n",
        "Traceback (most recent call last):\n",
        "  ...\n",
        "__main__.ParseError: cannot parse text on line 10: '...'\n",
        "\n",
        "Пояснение: любой класс исключения принимает произвольное число аргументов (в сигнатуре функции это выглядит как *args). Класс-наследник должен поддерживать весь интерфейс родителя, поэтому в вашем классе также должны быть *args, которые нужно передать выше по иерархии наследования с помощью функции super. Любые аргументы, указанные после аргумента со «звездочкой», можно передать только по имени, поэтому они называются именованными. Чтобы сделать их необязательными, нужно дать им значение по умолчанию."
      ],
      "metadata": {
        "id": "vy0JrYetBzbk"
      }
    },
    {
      "cell_type": "code",
      "source": [
        "class ParseError(Exception):\n",
        "  \"\"\" Error while parsing file \"\"\"\n",
        "  def __init__(self, *args, line_no=None, text=None):\n",
        "    super().__init__(*args)\n",
        "    self.line_no = line_no\n",
        "    self.text = text\n",
        "\n",
        "  def __str__(self):\n",
        "    if self.line_no is None and self.text is None:\n",
        "            return super().__str__()\n",
        "    elif self.line_no is not None and self.text is None:\n",
        "        return f\"cannot parse text on line {self.line_no}\"\n",
        "    elif self.line_no is None and self.text is not None:\n",
        "        return f\"cannot parse text: {repr(self.text)}\"\n",
        "    else:\n",
        "        return f\"cannot parse text on line {self.line_no}: {repr(self.text)}\""
      ],
      "metadata": {
        "id": "yuW_Ev_JB4Lt"
      },
      "execution_count": 63,
      "outputs": []
    }
  ]
}